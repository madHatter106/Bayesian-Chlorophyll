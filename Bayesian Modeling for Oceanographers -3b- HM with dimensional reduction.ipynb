{
 "cells": [
  {
   "cell_type": "markdown",
   "metadata": {},
   "source": [
    "Here I explore the performance of bayesian hierarchical models with preliminary dimensional reduction via PCA."
   ]
  },
  {
   "cell_type": "code",
   "execution_count": 1,
   "metadata": {},
   "outputs": [
    {
     "name": "stderr",
     "output_type": "stream",
     "text": [
      "WARNING (theano.configdefaults): install mkl with `conda install mkl-service`: No module named 'mkl'\n",
      "/accounts/ekarakoy/anaconda3/envs/machine_learning/lib/python3.6/site-packages/h5py/__init__.py:36: FutureWarning: Conversion of the second argument of issubdtype from `float` to `np.floating` is deprecated. In future, it will be treated as `np.float64 == np.dtype(float).type`.\n",
      "  from ._conv import register_converters as _register_converters\n"
     ]
    }
   ],
   "source": [
    "import pickle\n",
    "\n",
    "from sklearn.preprocessing import StandardScaler\n",
    "from sklearn.decomposition import PCA\n",
    "from seaborn import heatmap\n",
    "import pandas as pd\n",
    "import numpy as np\n",
    "import matplotlib.pyplot as pl\n",
    "from matplotlib import rcParams\n",
    "import pymc3 as pm\n",
    "import cmocean.cm as cm"
   ]
  },
  {
   "cell_type": "code",
   "execution_count": 2,
   "metadata": {},
   "outputs": [],
   "source": [
    "rcParams['axes.labelsize'] = 16\n",
    "rcParams['xtick.labelsize'] = 16\n",
    "rcParams['ytick.labelsize'] = 16\n",
    "rcParams['axes.titlesize'] = 20\n",
    "rcParams['font.size'] = 16"
   ]
  },
  {
   "cell_type": "code",
   "execution_count": 3,
   "metadata": {},
   "outputs": [],
   "source": [
    "def PlotPCARes(pca_machine, threshold=0.85, alpha=1, num_pca_disp=None):\n",
    "    \"\"\"This function plots PCA results\"\"\"\n",
    "    f, ax = pl.subplots(figsize=(12, 10))\n",
    "    #n = data.shape[1]\n",
    "    cum_expl_var = np.cumsum(pca_machine.explained_variance_ratio_)\n",
    "    if num_pca_disp is None:\n",
    "        num_pca_disp = np.argmax(cum_expl_var>0.999) + 1\n",
    "    \n",
    "    ax.bar(range(1, num_pca_disp+1),\n",
    "           pca_machine.explained_variance_ratio_[:num_pca_disp],\n",
    "           align='center', color='skyblue',\n",
    "          label='PC explained_variance');\n",
    "    ax.step(range(1, num_pca_disp+1),\n",
    "            np.cumsum(pca_machine.explained_variance_ratio_[:num_pca_disp]),\n",
    "            where='mid',\n",
    "           label='cumulated variance')\n",
    "    ax.hlines(threshold, 0, num_pca_disp+2, linestyles='--', linewidth=2,\n",
    "                 label='selection cutoff: %.2f' % threshold)\n",
    "    ax.set_xticks(np.arange(1, num_pca_disp+1))\n",
    "    ax.set_xticklabels(['PC%d' %i for i in range(1, num_pca_disp+1)],\n",
    "                       rotation=45)\n",
    "    ax.set_xlim((0.5, 0.5+num_pca_disp))\n",
    "    ax.set_ylim((0, 1))\n",
    "    ax.set_title('PCA Explained Variance')\n",
    "    ax.legend(loc='center right')\n",
    "    \n",
    "def PlotPCAvsFeatures(pca_data, df_features, num_pc=None, df_target=np.empty(0)):\n",
    "    if num_pc is None:\n",
    "        num_pc = pca_data.shape[1]\n",
    "    df_pca = pd.DataFrame(pca_data[:, :num_pc],\n",
    "                          columns=['PC%d' % (pci+1) for pci in range(num_pc)],\n",
    "                          index=df_features.index)\n",
    "    to_drop = df_features.columns.tolist()\n",
    "    if df_target.any().any():\n",
    "        df_feat_pca = pd.concat((df_features, df_target, df_pca), axis=1)\n",
    "        to_drop.extend(df_target.columns.tolist())\n",
    "    else:\n",
    "        df_feat_pca = pd.concat((df_features, df_pca), axis=1)\n",
    "    pca_corr = df_feat_pca.corr()\n",
    "    pca_corr.drop(to_drop, axis=0, inplace=True)\n",
    "    pca_corr.drop(df_pca.columns.tolist(), axis=1, inplace=True)\n",
    "    f, ax = pl.subplots(figsize=(len(to_drop), pc_num))\n",
    "    heatmap(pca_corr, ax=ax, annot=True, cmap=CM.balance, vmin=-1, vmax=1);\n",
    "\n",
    "    \n",
    "def ScaleAndPCA(df, visualize=True, var_threshold=0.95, alpha=0.6, verbose=True):\n",
    "    pca = PCA()\n",
    "    scaler = StandardScaler()\n",
    "    features = df.values\n",
    "    features_sc = scaler.fit_transform(features)\n",
    "    pca=PCA()\n",
    "    pcadata = pca.fit_transform(features_sc)\n",
    "    cum_expl_var = np.cumsum(pca.explained_variance_ratio_)\n",
    "    num_pca_thresh = np.argmax(cum_expl_var>var_threshold) + 1\n",
    "    if verbose:\n",
    "        print(\"explained variance, by PC\")\n",
    "        print(pca.explained_variance_)\n",
    "        print('-' * 80)\n",
    "        print(\"relative explained variance by PC\")\n",
    "        print(pca.explained_variance_ratio_)\n",
    "        print('-' * 80)\n",
    "    print(\"min. # of PCs accounting for req. var. thresh. (%.2f) requested %d\" \n",
    "          % (var_threshold, num_pca_thresh))\n",
    "    if visualize:\n",
    "        PlotPCARes(pca, threshold=var_threshold, alpha=alpha)\n",
    "    return scaler, pcadata, pca, num_pca_thresh"
   ]
  },
  {
   "cell_type": "code",
   "execution_count": 4,
   "metadata": {},
   "outputs": [],
   "source": [
    "df_ = pd.read_pickle('./pickleJar/d_nomad_aop_with_longhurst.pkl')"
   ]
  },
  {
   "cell_type": "code",
   "execution_count": 5,
   "metadata": {},
   "outputs": [
    {
     "name": "stdout",
     "output_type": "stream",
     "text": [
      "<class 'pandas.core.frame.DataFrame'>\n",
      "Int64Index: 4459 entries, 0 to 4458\n",
      "Data columns (total 30 columns):\n",
      "id              4459 non-null object\n",
      "datetime        4459 non-null datetime64[ns]\n",
      "doy             4459 non-null float64\n",
      "lat             4459 non-null float64\n",
      "lon             4459 non-null float64\n",
      "Province        4459 non-null object\n",
      "ProvCode        4459 non-null object\n",
      "ProvCat         4459 non-null int64\n",
      "Biome           4459 non-null object\n",
      "BiomCat         4459 non-null int8\n",
      "etopo2          4459 non-null float64\n",
      "oisst           4459 non-null float64\n",
      "woa_sst_mean    2516 non-null float64\n",
      "woa_sst_se      2516 non-null float64\n",
      "woa_sal_mean    2511 non-null float64\n",
      "woa_sal_se      2511 non-null float64\n",
      "rrs411          4293 non-null float64\n",
      "rrs443          4456 non-null float64\n",
      "rrs489          4422 non-null float64\n",
      "rrs510          4207 non-null float64\n",
      "rrs555          4453 non-null float64\n",
      "rrs670          3905 non-null float64\n",
      "mxBl            4459 non-null float64\n",
      "mxBlId          4459 non-null object\n",
      "mxBlCat         4459 non-null int8\n",
      "mxBl2           4459 non-null float64\n",
      "mxBlId2         4459 non-null object\n",
      "mxBlCat2        4459 non-null int8\n",
      "is_hplc         4127 non-null float64\n",
      "chl             4127 non-null float64\n",
      "dtypes: datetime64[ns](1), float64(19), int64(1), int8(3), object(6)\n",
      "memory usage: 988.5+ KB\n"
     ]
    }
   ],
   "source": [
    "df_.info()"
   ]
  },
  {
   "cell_type": "code",
   "execution_count": 6,
   "metadata": {},
   "outputs": [],
   "source": [
    "rrs_cols = df_.filter(regex='rrs').columns.tolist()\n",
    "df_.dropna(inplace=True, subset=rrs_cols)"
   ]
  },
  {
   "cell_type": "code",
   "execution_count": 7,
   "metadata": {},
   "outputs": [
    {
     "name": "stdout",
     "output_type": "stream",
     "text": [
      "<class 'pandas.core.frame.DataFrame'>\n",
      "Int64Index: 3603 entries, 0 to 4458\n",
      "Data columns (total 30 columns):\n",
      "id              3603 non-null object\n",
      "datetime        3603 non-null datetime64[ns]\n",
      "doy             3603 non-null float64\n",
      "lat             3603 non-null float64\n",
      "lon             3603 non-null float64\n",
      "Province        3603 non-null object\n",
      "ProvCode        3603 non-null object\n",
      "ProvCat         3603 non-null int64\n",
      "Biome           3603 non-null object\n",
      "BiomCat         3603 non-null int8\n",
      "etopo2          3603 non-null float64\n",
      "oisst           3603 non-null float64\n",
      "woa_sst_mean    2143 non-null float64\n",
      "woa_sst_se      2143 non-null float64\n",
      "woa_sal_mean    2138 non-null float64\n",
      "woa_sal_se      2138 non-null float64\n",
      "rrs411          3603 non-null float64\n",
      "rrs443          3603 non-null float64\n",
      "rrs489          3603 non-null float64\n",
      "rrs510          3603 non-null float64\n",
      "rrs555          3603 non-null float64\n",
      "rrs670          3603 non-null float64\n",
      "mxBl            3603 non-null float64\n",
      "mxBlId          3603 non-null object\n",
      "mxBlCat         3603 non-null int8\n",
      "mxBl2           3603 non-null float64\n",
      "mxBlId2         3603 non-null object\n",
      "mxBlCat2        3603 non-null int8\n",
      "is_hplc         3311 non-null float64\n",
      "chl             3311 non-null float64\n",
      "dtypes: datetime64[ns](1), float64(19), int64(1), int8(3), object(6)\n",
      "memory usage: 798.7+ KB\n"
     ]
    }
   ],
   "source": [
    "df_.info()"
   ]
  },
  {
   "cell_type": "code",
   "execution_count": 8,
   "metadata": {},
   "outputs": [],
   "source": [
    "def PlotCrossCorr(pca_data_):\n",
    "    df_rrs = df_.filter(regex='rrs')\n",
    "    rrs_cols = df_rrs.columns.tolist()\n",
    "    pc_num=6\n",
    "    df_pca = pd.DataFrame(pca_data_[:,:pc_num],\n",
    "                          columns=['PC%d' %(i+1) for i in range(pc_num)],\n",
    "                          index=df_.index)\n",
    "    dfrrs_w_pca = pd.merge(df_pca, df_.filter(regex='rrs'), 'outer',\n",
    "                            left_index=True,\n",
    "                            right_index=True)\n",
    "\n",
    "    corr_w_pca = dfrrs_w_pca.corr().T\n",
    "    corr_w_pca.drop(df_pca.columns, axis=0, inplace=True)\n",
    "    corr_w_pca.drop(rrs_cols, axis=1, inplace=True)\n",
    "    _, ax = pl.subplots(figsize=(20, 5))\n",
    "    heatmap(corr_w_pca, cmap=cm.balance, vmin=-1, vmax=1, ax=ax);"
   ]
  },
  {
   "cell_type": "code",
   "execution_count": 9,
   "metadata": {},
   "outputs": [],
   "source": [
    "df_l = np.log10(df_.filter(regex='rrs')+1e-6)"
   ]
  },
  {
   "cell_type": "code",
   "execution_count": 10,
   "metadata": {},
   "outputs": [
    {
     "name": "stdout",
     "output_type": "stream",
     "text": [
      "<class 'pandas.core.frame.DataFrame'>\n",
      "Int64Index: 3603 entries, 0 to 4458\n",
      "Data columns (total 6 columns):\n",
      "rrs411    3603 non-null float64\n",
      "rrs443    3603 non-null float64\n",
      "rrs489    3603 non-null float64\n",
      "rrs510    3603 non-null float64\n",
      "rrs555    3603 non-null float64\n",
      "rrs670    3603 non-null float64\n",
      "dtypes: float64(6)\n",
      "memory usage: 197.0 KB\n"
     ]
    }
   ],
   "source": [
    "df_l.info()"
   ]
  },
  {
   "cell_type": "code",
   "execution_count": 11,
   "metadata": {},
   "outputs": [
    {
     "data": {
      "text/html": [
       "<div>\n",
       "<style scoped>\n",
       "    .dataframe tbody tr th:only-of-type {\n",
       "        vertical-align: middle;\n",
       "    }\n",
       "\n",
       "    .dataframe tbody tr th {\n",
       "        vertical-align: top;\n",
       "    }\n",
       "\n",
       "    .dataframe thead th {\n",
       "        text-align: right;\n",
       "    }\n",
       "</style>\n",
       "<table border=\"1\" class=\"dataframe\">\n",
       "  <thead>\n",
       "    <tr style=\"text-align: right;\">\n",
       "      <th></th>\n",
       "      <th>rrs411</th>\n",
       "      <th>rrs443</th>\n",
       "      <th>rrs489</th>\n",
       "      <th>rrs510</th>\n",
       "      <th>rrs555</th>\n",
       "      <th>rrs670</th>\n",
       "    </tr>\n",
       "  </thead>\n",
       "  <tbody>\n",
       "    <tr>\n",
       "      <th>count</th>\n",
       "      <td>3603.000000</td>\n",
       "      <td>3603.000000</td>\n",
       "      <td>3603.000000</td>\n",
       "      <td>3603.000000</td>\n",
       "      <td>3603.000000</td>\n",
       "      <td>3603.000000</td>\n",
       "    </tr>\n",
       "    <tr>\n",
       "      <th>mean</th>\n",
       "      <td>-2.408278</td>\n",
       "      <td>-2.415187</td>\n",
       "      <td>-2.391489</td>\n",
       "      <td>-2.462763</td>\n",
       "      <td>-2.603814</td>\n",
       "      <td>-3.578133</td>\n",
       "    </tr>\n",
       "    <tr>\n",
       "      <th>std</th>\n",
       "      <td>0.325597</td>\n",
       "      <td>0.287842</td>\n",
       "      <td>0.228861</td>\n",
       "      <td>0.212328</td>\n",
       "      <td>0.298576</td>\n",
       "      <td>0.635028</td>\n",
       "    </tr>\n",
       "    <tr>\n",
       "      <th>min</th>\n",
       "      <td>-4.282273</td>\n",
       "      <td>-3.718891</td>\n",
       "      <td>-3.545005</td>\n",
       "      <td>-3.581435</td>\n",
       "      <td>-3.681273</td>\n",
       "      <td>-6.000000</td>\n",
       "    </tr>\n",
       "    <tr>\n",
       "      <th>25%</th>\n",
       "      <td>-2.592846</td>\n",
       "      <td>-2.572070</td>\n",
       "      <td>-2.512461</td>\n",
       "      <td>-2.573988</td>\n",
       "      <td>-2.806939</td>\n",
       "      <td>-3.994128</td>\n",
       "    </tr>\n",
       "    <tr>\n",
       "      <th>50%</th>\n",
       "      <td>-2.396180</td>\n",
       "      <td>-2.406758</td>\n",
       "      <td>-2.379375</td>\n",
       "      <td>-2.481948</td>\n",
       "      <td>-2.681220</td>\n",
       "      <td>-3.689078</td>\n",
       "    </tr>\n",
       "    <tr>\n",
       "      <th>75%</th>\n",
       "      <td>-2.178098</td>\n",
       "      <td>-2.213645</td>\n",
       "      <td>-2.244788</td>\n",
       "      <td>-2.389898</td>\n",
       "      <td>-2.475420</td>\n",
       "      <td>-3.220853</td>\n",
       "    </tr>\n",
       "    <tr>\n",
       "      <th>max</th>\n",
       "      <td>-1.514266</td>\n",
       "      <td>-1.434509</td>\n",
       "      <td>-1.195076</td>\n",
       "      <td>-1.109348</td>\n",
       "      <td>-0.963100</td>\n",
       "      <td>-1.557505</td>\n",
       "    </tr>\n",
       "  </tbody>\n",
       "</table>\n",
       "</div>"
      ],
      "text/plain": [
       "            rrs411       rrs443       rrs489       rrs510       rrs555  \\\n",
       "count  3603.000000  3603.000000  3603.000000  3603.000000  3603.000000   \n",
       "mean     -2.408278    -2.415187    -2.391489    -2.462763    -2.603814   \n",
       "std       0.325597     0.287842     0.228861     0.212328     0.298576   \n",
       "min      -4.282273    -3.718891    -3.545005    -3.581435    -3.681273   \n",
       "25%      -2.592846    -2.572070    -2.512461    -2.573988    -2.806939   \n",
       "50%      -2.396180    -2.406758    -2.379375    -2.481948    -2.681220   \n",
       "75%      -2.178098    -2.213645    -2.244788    -2.389898    -2.475420   \n",
       "max      -1.514266    -1.434509    -1.195076    -1.109348    -0.963100   \n",
       "\n",
       "            rrs670  \n",
       "count  3603.000000  \n",
       "mean     -3.578133  \n",
       "std       0.635028  \n",
       "min      -6.000000  \n",
       "25%      -3.994128  \n",
       "50%      -3.689078  \n",
       "75%      -3.220853  \n",
       "max      -1.557505  "
      ]
     },
     "execution_count": 11,
     "metadata": {},
     "output_type": "execute_result"
    }
   ],
   "source": [
    "df_l.describe()"
   ]
  },
  {
   "cell_type": "markdown",
   "metadata": {},
   "source": [
    "I lose a lot of data log transforming the PCs. I'll log transform the reflectances instead and apply PCA."
   ]
  },
  {
   "cell_type": "code",
   "execution_count": 12,
   "metadata": {},
   "outputs": [
    {
     "data": {
      "image/png": "[encoded data removed]",
      "text/plain": [
       "<Figure size 864x720 with 1 Axes>"
      ]
     },
     "metadata": {},
     "output_type": "display_data"
    },
    {
     "data": {
      "image/png": "[encoded data removed]",
      "text/plain": [
       "<Figure size 1440x360 with 2 Axes>"
      ]
     },
     "metadata": {},
     "output_type": "display_data"
    }
   ],
   "source": [
    "pca_log = PCA()\n",
    "pca_log_data = pca_log.fit_transform(df_l.as_matrix())\n",
    "PlotPCARes(pca_log, threshold=0.99, alpha=0.9, num_pca_disp=pca_log_data.shape[1])\n",
    "PlotCrossCorr(pca_log_data)"
   ]
  },
  {
   "cell_type": "code",
   "execution_count": 13,
   "metadata": {},
   "outputs": [],
   "source": [
    "for i in range(1, 7):\n",
    "    loc = df_l.columns.get_loc('rrs670')\n",
    "    df_l.insert(loc+i, f'PC{i}', pca_log_data[:,i-1])"
   ]
  },
  {
   "cell_type": "markdown",
   "metadata": {},
   "source": [
    "Here is the comparison to pca of raw reflectances:"
   ]
  },
  {
   "cell_type": "code",
   "execution_count": 14,
   "metadata": {},
   "outputs": [
    {
     "data": {
      "image/png": "[encoded data removed]",
      "text/plain": [
       "<Figure size 864x720 with 1 Axes>"
      ]
     },
     "metadata": {},
     "output_type": "display_data"
    },
    {
     "data": {
      "image/png": "[encoded data removed]",
      "text/plain": [
       "<Figure size 1440x360 with 2 Axes>"
      ]
     },
     "metadata": {},
     "output_type": "display_data"
    }
   ],
   "source": [
    "pca_ = PCA()\n",
    "pca_data = pca_.fit_transform(df_.filter(regex='rrs').as_matrix())\n",
    "PlotPCARes(pca_, threshold=0.99, alpha=0.9, num_pca_disp=pca_data.shape[1])\n",
    "PlotCrossCorr(pca_data)"
   ]
  },
  {
   "cell_type": "code",
   "execution_count": 15,
   "metadata": {},
   "outputs": [
    {
     "name": "stdout",
     "output_type": "stream",
     "text": [
      "<class 'pandas.core.frame.DataFrame'>\n",
      "Int64Index: 3603 entries, 0 to 4458\n",
      "Data columns (total 12 columns):\n",
      "rrs411    3603 non-null float64\n",
      "rrs443    3603 non-null float64\n",
      "rrs489    3603 non-null float64\n",
      "rrs510    3603 non-null float64\n",
      "rrs555    3603 non-null float64\n",
      "rrs670    3603 non-null float64\n",
      "PC1       3603 non-null float64\n",
      "PC2       3603 non-null float64\n",
      "PC3       3603 non-null float64\n",
      "PC4       3603 non-null float64\n",
      "PC5       3603 non-null float64\n",
      "PC6       3603 non-null float64\n",
      "dtypes: float64(12)\n",
      "memory usage: 525.9 KB\n"
     ]
    }
   ],
   "source": [
    "df_l.info()"
   ]
  },
  {
   "cell_type": "markdown",
   "metadata": {},
   "source": [
    "Assigning index to Province"
   ]
  },
  {
   "cell_type": "code",
   "execution_count": 16,
   "metadata": {},
   "outputs": [],
   "source": [
    "df_.insert(df_.columns.get_loc('Province')+1, 'ProvIdx',\n",
    "           df_.Province.astype('category').cat.codes)"
   ]
  },
  {
   "cell_type": "code",
   "execution_count": 17,
   "metadata": {},
   "outputs": [
    {
     "name": "stdout",
     "output_type": "stream",
     "text": [
      "<class 'pandas.core.frame.DataFrame'>\n",
      "Int64Index: 3603 entries, 0 to 4458\n",
      "Data columns (total 29 columns):\n",
      "id              3603 non-null object\n",
      "datetime        3603 non-null datetime64[ns]\n",
      "doy             3603 non-null float64\n",
      "lat             3603 non-null float64\n",
      "lon             3603 non-null float64\n",
      "Province        3603 non-null object\n",
      "ProvIdx         3603 non-null int8\n",
      "Biome           3603 non-null object\n",
      "BiomCat         3603 non-null int8\n",
      "etopo2          3603 non-null float64\n",
      "oisst           3603 non-null float64\n",
      "woa_sst_mean    2143 non-null float64\n",
      "woa_sst_se      2143 non-null float64\n",
      "woa_sal_mean    2138 non-null float64\n",
      "woa_sal_se      2138 non-null float64\n",
      "rrs411          3603 non-null float64\n",
      "rrs443          3603 non-null float64\n",
      "rrs489          3603 non-null float64\n",
      "rrs510          3603 non-null float64\n",
      "rrs555          3603 non-null float64\n",
      "rrs670          3603 non-null float64\n",
      "mxBl            3603 non-null float64\n",
      "mxBlId          3603 non-null object\n",
      "mxBlCat         3603 non-null int8\n",
      "mxBl2           3603 non-null float64\n",
      "mxBlId2         3603 non-null object\n",
      "mxBlCat2        3603 non-null int8\n",
      "is_hplc         3311 non-null float64\n",
      "chl             3311 non-null float64\n",
      "dtypes: datetime64[ns](1), float64(19), int8(4), object(5)\n",
      "memory usage: 905.9+ KB\n"
     ]
    }
   ],
   "source": [
    "df_.drop(['ProvCode', 'ProvCat'], axis=1, inplace=True)\n",
    "df_.info()"
   ]
  },
  {
   "cell_type": "code",
   "execution_count": 18,
   "metadata": {},
   "outputs": [],
   "source": [
    "df_l[['id', 'Province', 'ProvIdx', 'etopo2', 'oisst',\n",
    "     'is_hplc']] = df_[['id', 'Province', 'ProvIdx','etopo2', 'oisst', 'is_hplc']]\n",
    "df_l['chl'] = np.log10(df_.chl)"
   ]
  },
  {
   "cell_type": "code",
   "execution_count": 20,
   "metadata": {},
   "outputs": [],
   "source": [
    "df_l.dropna(inplace=True)"
   ]
  },
  {
   "cell_type": "code",
   "execution_count": 21,
   "metadata": {},
   "outputs": [
    {
     "name": "stdout",
     "output_type": "stream",
     "text": [
      "<class 'pandas.core.frame.DataFrame'>\n",
      "Int64Index: 3311 entries, 0 to 4458\n",
      "Data columns (total 19 columns):\n",
      "rrs411      3311 non-null float64\n",
      "rrs443      3311 non-null float64\n",
      "rrs489      3311 non-null float64\n",
      "rrs510      3311 non-null float64\n",
      "rrs555      3311 non-null float64\n",
      "rrs670      3311 non-null float64\n",
      "PC1         3311 non-null float64\n",
      "PC2         3311 non-null float64\n",
      "PC3         3311 non-null float64\n",
      "PC4         3311 non-null float64\n",
      "PC5         3311 non-null float64\n",
      "PC6         3311 non-null float64\n",
      "id          3311 non-null object\n",
      "Province    3311 non-null object\n",
      "ProvIdx     3311 non-null int8\n",
      "etopo2      3311 non-null float64\n",
      "oisst       3311 non-null float64\n",
      "is_hplc     3311 non-null float64\n",
      "chl         3311 non-null float64\n",
      "dtypes: float64(16), int8(1), object(2)\n",
      "memory usage: 494.7+ KB\n"
     ]
    }
   ],
   "source": [
    "df_l.info()"
   ]
  },
  {
   "cell_type": "code",
   "execution_count": 22,
   "metadata": {},
   "outputs": [
    {
     "data": {
      "text/html": [
       "<div>\n",
       "<style scoped>\n",
       "    .dataframe tbody tr th:only-of-type {\n",
       "        vertical-align: middle;\n",
       "    }\n",
       "\n",
       "    .dataframe tbody tr th {\n",
       "        vertical-align: top;\n",
       "    }\n",
       "\n",
       "    .dataframe thead th {\n",
       "        text-align: right;\n",
       "    }\n",
       "</style>\n",
       "<table border=\"1\" class=\"dataframe\">\n",
       "  <thead>\n",
       "    <tr style=\"text-align: right;\">\n",
       "      <th></th>\n",
       "      <th>count</th>\n",
       "      <th>mean</th>\n",
       "      <th>std</th>\n",
       "      <th>min</th>\n",
       "      <th>25%</th>\n",
       "      <th>50%</th>\n",
       "      <th>75%</th>\n",
       "      <th>max</th>\n",
       "    </tr>\n",
       "  </thead>\n",
       "  <tbody>\n",
       "    <tr>\n",
       "      <th>rrs411</th>\n",
       "      <td>3311.0</td>\n",
       "      <td>-2.408172</td>\n",
       "      <td>0.326966</td>\n",
       "      <td>-4.282273</td>\n",
       "      <td>-2.595471</td>\n",
       "      <td>-2.392028</td>\n",
       "      <td>-2.177275</td>\n",
       "      <td>-1.514266</td>\n",
       "    </tr>\n",
       "    <tr>\n",
       "      <th>rrs443</th>\n",
       "      <td>3311.0</td>\n",
       "      <td>-2.415298</td>\n",
       "      <td>0.289842</td>\n",
       "      <td>-3.718891</td>\n",
       "      <td>-2.571452</td>\n",
       "      <td>-2.403485</td>\n",
       "      <td>-2.212183</td>\n",
       "      <td>-1.434509</td>\n",
       "    </tr>\n",
       "    <tr>\n",
       "      <th>rrs489</th>\n",
       "      <td>3311.0</td>\n",
       "      <td>-2.389852</td>\n",
       "      <td>0.231960</td>\n",
       "      <td>-3.545005</td>\n",
       "      <td>-2.510675</td>\n",
       "      <td>-2.376747</td>\n",
       "      <td>-2.244050</td>\n",
       "      <td>-1.195076</td>\n",
       "    </tr>\n",
       "    <tr>\n",
       "      <th>rrs510</th>\n",
       "      <td>3311.0</td>\n",
       "      <td>-2.460284</td>\n",
       "      <td>0.216113</td>\n",
       "      <td>-3.581435</td>\n",
       "      <td>-2.574543</td>\n",
       "      <td>-2.481263</td>\n",
       "      <td>-2.386559</td>\n",
       "      <td>-1.109348</td>\n",
       "    </tr>\n",
       "    <tr>\n",
       "      <th>rrs555</th>\n",
       "      <td>3311.0</td>\n",
       "      <td>-2.600266</td>\n",
       "      <td>0.302411</td>\n",
       "      <td>-3.681273</td>\n",
       "      <td>-2.805613</td>\n",
       "      <td>-2.684311</td>\n",
       "      <td>-2.466319</td>\n",
       "      <td>-0.963100</td>\n",
       "    </tr>\n",
       "    <tr>\n",
       "      <th>rrs670</th>\n",
       "      <td>3311.0</td>\n",
       "      <td>-3.569523</td>\n",
       "      <td>0.638160</td>\n",
       "      <td>-6.000000</td>\n",
       "      <td>-3.983877</td>\n",
       "      <td>-3.689428</td>\n",
       "      <td>-3.221012</td>\n",
       "      <td>-1.557505</td>\n",
       "    </tr>\n",
       "    <tr>\n",
       "      <th>PC1</th>\n",
       "      <td>3311.0</td>\n",
       "      <td>-0.009290</td>\n",
       "      <td>0.713313</td>\n",
       "      <td>-2.280088</td>\n",
       "      <td>-0.430879</td>\n",
       "      <td>0.111475</td>\n",
       "      <td>0.492285</td>\n",
       "      <td>2.390972</td>\n",
       "    </tr>\n",
       "    <tr>\n",
       "      <th>PC2</th>\n",
       "      <td>3311.0</td>\n",
       "      <td>-0.002922</td>\n",
       "      <td>0.505232</td>\n",
       "      <td>-2.498980</td>\n",
       "      <td>-0.316617</td>\n",
       "      <td>-0.018179</td>\n",
       "      <td>0.265389</td>\n",
       "      <td>2.663788</td>\n",
       "    </tr>\n",
       "    <tr>\n",
       "      <th>PC3</th>\n",
       "      <td>3311.0</td>\n",
       "      <td>-0.000341</td>\n",
       "      <td>0.144703</td>\n",
       "      <td>-0.638281</td>\n",
       "      <td>-0.084041</td>\n",
       "      <td>-0.014178</td>\n",
       "      <td>0.064704</td>\n",
       "      <td>1.121505</td>\n",
       "    </tr>\n",
       "    <tr>\n",
       "      <th>PC4</th>\n",
       "      <td>3311.0</td>\n",
       "      <td>0.000088</td>\n",
       "      <td>0.063026</td>\n",
       "      <td>-0.302540</td>\n",
       "      <td>-0.027348</td>\n",
       "      <td>0.005500</td>\n",
       "      <td>0.035222</td>\n",
       "      <td>0.548890</td>\n",
       "    </tr>\n",
       "    <tr>\n",
       "      <th>PC5</th>\n",
       "      <td>3311.0</td>\n",
       "      <td>0.000650</td>\n",
       "      <td>0.028404</td>\n",
       "      <td>-0.131827</td>\n",
       "      <td>-0.015192</td>\n",
       "      <td>0.002891</td>\n",
       "      <td>0.019289</td>\n",
       "      <td>0.134608</td>\n",
       "    </tr>\n",
       "    <tr>\n",
       "      <th>PC6</th>\n",
       "      <td>3311.0</td>\n",
       "      <td>0.000420</td>\n",
       "      <td>0.018253</td>\n",
       "      <td>-0.124325</td>\n",
       "      <td>-0.009936</td>\n",
       "      <td>-0.000897</td>\n",
       "      <td>0.011119</td>\n",
       "      <td>0.135758</td>\n",
       "    </tr>\n",
       "    <tr>\n",
       "      <th>ProvIdx</th>\n",
       "      <td>3311.0</td>\n",
       "      <td>17.875264</td>\n",
       "      <td>12.862431</td>\n",
       "      <td>0.000000</td>\n",
       "      <td>4.000000</td>\n",
       "      <td>12.000000</td>\n",
       "      <td>29.000000</td>\n",
       "      <td>44.000000</td>\n",
       "    </tr>\n",
       "    <tr>\n",
       "      <th>etopo2</th>\n",
       "      <td>3311.0</td>\n",
       "      <td>1258.260948</td>\n",
       "      <td>1765.799230</td>\n",
       "      <td>0.000000</td>\n",
       "      <td>16.000000</td>\n",
       "      <td>227.000000</td>\n",
       "      <td>2640.500000</td>\n",
       "      <td>7978.000000</td>\n",
       "    </tr>\n",
       "    <tr>\n",
       "      <th>oisst</th>\n",
       "      <td>3311.0</td>\n",
       "      <td>15.171492</td>\n",
       "      <td>10.295742</td>\n",
       "      <td>-1.800000</td>\n",
       "      <td>2.175000</td>\n",
       "      <td>16.670000</td>\n",
       "      <td>24.575000</td>\n",
       "      <td>30.890000</td>\n",
       "    </tr>\n",
       "    <tr>\n",
       "      <th>is_hplc</th>\n",
       "      <td>3311.0</td>\n",
       "      <td>0.351555</td>\n",
       "      <td>0.477528</td>\n",
       "      <td>0.000000</td>\n",
       "      <td>0.000000</td>\n",
       "      <td>0.000000</td>\n",
       "      <td>1.000000</td>\n",
       "      <td>1.000000</td>\n",
       "    </tr>\n",
       "    <tr>\n",
       "      <th>chl</th>\n",
       "      <td>3311.0</td>\n",
       "      <td>-0.094207</td>\n",
       "      <td>0.713745</td>\n",
       "      <td>-1.920819</td>\n",
       "      <td>-0.641494</td>\n",
       "      <td>-0.107349</td>\n",
       "      <td>0.369401</td>\n",
       "      <td>1.891341</td>\n",
       "    </tr>\n",
       "  </tbody>\n",
       "</table>\n",
       "</div>"
      ],
      "text/plain": [
       "          count         mean          std       min        25%         50%  \\\n",
       "rrs411   3311.0    -2.408172     0.326966 -4.282273  -2.595471   -2.392028   \n",
       "rrs443   3311.0    -2.415298     0.289842 -3.718891  -2.571452   -2.403485   \n",
       "rrs489   3311.0    -2.389852     0.231960 -3.545005  -2.510675   -2.376747   \n",
       "rrs510   3311.0    -2.460284     0.216113 -3.581435  -2.574543   -2.481263   \n",
       "rrs555   3311.0    -2.600266     0.302411 -3.681273  -2.805613   -2.684311   \n",
       "rrs670   3311.0    -3.569523     0.638160 -6.000000  -3.983877   -3.689428   \n",
       "PC1      3311.0    -0.009290     0.713313 -2.280088  -0.430879    0.111475   \n",
       "PC2      3311.0    -0.002922     0.505232 -2.498980  -0.316617   -0.018179   \n",
       "PC3      3311.0    -0.000341     0.144703 -0.638281  -0.084041   -0.014178   \n",
       "PC4      3311.0     0.000088     0.063026 -0.302540  -0.027348    0.005500   \n",
       "PC5      3311.0     0.000650     0.028404 -0.131827  -0.015192    0.002891   \n",
       "PC6      3311.0     0.000420     0.018253 -0.124325  -0.009936   -0.000897   \n",
       "ProvIdx  3311.0    17.875264    12.862431  0.000000   4.000000   12.000000   \n",
       "etopo2   3311.0  1258.260948  1765.799230  0.000000  16.000000  227.000000   \n",
       "oisst    3311.0    15.171492    10.295742 -1.800000   2.175000   16.670000   \n",
       "is_hplc  3311.0     0.351555     0.477528  0.000000   0.000000    0.000000   \n",
       "chl      3311.0    -0.094207     0.713745 -1.920819  -0.641494   -0.107349   \n",
       "\n",
       "                 75%          max  \n",
       "rrs411     -2.177275    -1.514266  \n",
       "rrs443     -2.212183    -1.434509  \n",
       "rrs489     -2.244050    -1.195076  \n",
       "rrs510     -2.386559    -1.109348  \n",
       "rrs555     -2.466319    -0.963100  \n",
       "rrs670     -3.221012    -1.557505  \n",
       "PC1         0.492285     2.390972  \n",
       "PC2         0.265389     2.663788  \n",
       "PC3         0.064704     1.121505  \n",
       "PC4         0.035222     0.548890  \n",
       "PC5         0.019289     0.134608  \n",
       "PC6         0.011119     0.135758  \n",
       "ProvIdx    29.000000    44.000000  \n",
       "etopo2   2640.500000  7978.000000  \n",
       "oisst      24.575000    30.890000  \n",
       "is_hplc     1.000000     1.000000  \n",
       "chl         0.369401     1.891341  "
      ]
     },
     "execution_count": 22,
     "metadata": {},
     "output_type": "execute_result"
    }
   ],
   "source": [
    "df_l.describe().T"
   ]
  },
  {
   "cell_type": "code",
   "execution_count": 24,
   "metadata": {},
   "outputs": [],
   "source": [
    "df_l = df_l[['id', 'Province', 'ProvIdx', 'PC1', 'PC2', 'PC3', 'PC4', 'PC5', 'PC6',\n",
    "            'etopo2', 'oisst', 'is_hplc', 'chl']]"
   ]
  },
  {
   "cell_type": "code",
   "execution_count": 25,
   "metadata": {},
   "outputs": [
    {
     "name": "stdout",
     "output_type": "stream",
     "text": [
      "<class 'pandas.core.frame.DataFrame'>\n",
      "Int64Index: 3311 entries, 0 to 4458\n",
      "Data columns (total 13 columns):\n",
      "id          3311 non-null object\n",
      "Province    3311 non-null object\n",
      "ProvIdx     3311 non-null int8\n",
      "PC1         3311 non-null float64\n",
      "PC2         3311 non-null float64\n",
      "PC3         3311 non-null float64\n",
      "PC4         3311 non-null float64\n",
      "PC5         3311 non-null float64\n",
      "PC6         3311 non-null float64\n",
      "etopo2      3311 non-null float64\n",
      "oisst       3311 non-null float64\n",
      "is_hplc     3311 non-null float64\n",
      "chl         3311 non-null float64\n",
      "dtypes: float64(10), int8(1), object(2)\n",
      "memory usage: 339.5+ KB\n"
     ]
    }
   ],
   "source": [
    "df_l.info()"
   ]
  },
  {
   "cell_type": "code",
   "execution_count": 26,
   "metadata": {},
   "outputs": [],
   "source": [
    "df_log = df_l"
   ]
  },
  {
   "cell_type": "code",
   "execution_count": 27,
   "metadata": {},
   "outputs": [],
   "source": [
    "df_log.to_pickle('./pickleJar/df_log_w_pca.pkl')"
   ]
  },
  {
   "cell_type": "code",
   "execution_count": null,
   "metadata": {},
   "outputs": [],
   "source": []
  }
 ],
 "metadata": {
  "kernelspec": {
   "display_name": "Python 3",
   "language": "python",
   "name": "python3"
  },
  "language_info": {
   "codemirror_mode": {
    "name": "ipython",
    "version": 3
   },
   "file_extension": ".py",
   "mimetype": "text/x-python",
   "name": "python",
   "nbconvert_exporter": "python",
   "pygments_lexer": "ipython3",
   "version": "3.6.5"
  }
 },
 "nbformat": 4,
 "nbformat_minor": 2
}
