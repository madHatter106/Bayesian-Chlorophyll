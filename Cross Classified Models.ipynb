{
 "cells": [
  {
   "cell_type": "markdown",
   "metadata": {},
   "source": [
    "### <u>Cross-Clustered Models</u>\n",
    "The varying effects with province based clustering were pretty decent, but some of the data like e.g. int the CARB or NWCS provinces show some complex structure that might benefit from more complex grouping. Moreover, both model comparison methods, the WAIC and LOOCV, flagged max(blue) based clustering as potentially useful in combination with the province-based clustering. In this post I will further the analysis with two cross-classified models, meaning that two types of groupings are applied in parallel, rather than hierarchically. The first model combines the max(blue) grouping with the province grouping, with covarying effects implemented for both groupings, since the covarying effects model proved to be the superior one. For good measure, I'll implement a second model combining max(blue) and biome grouping."
   ]
  },
  {
   "cell_type": "code",
   "execution_count": null,
   "metadata": {},
   "outputs": [],
   "source": [
    "import pickle\n",
    "# Importing libraries\n",
    "import pymc3 as pm\n",
    "import numpy as np\n",
    "import pandas as pd\n",
    "import matplotlib.pyplot as pl\n",
    "from matplotlib import rcParams\n",
    "from seaborn import PairGrid, kdeplot, jointplot, FacetGrid\n",
    "import theano.tensor as tt\n",
    "import re\n",
    "from matplotlib import cm\n",
    "from cmocean import cm as cmo\n",
    "from matplotlib.colors import rgb2hex"
   ]
  },
  {
   "cell_type": "code",
   "execution_count": null,
   "metadata": {},
   "outputs": [],
   "source": [
    "# Setting graphics...\n",
    "% matplotlib inline\n",
    "pl.style.use('bmh')\n",
    "rcParams['xtick.labelsize'] = 16\n",
    "rcParams['ytick.labelsize'] = 16\n",
    "rcParams['axes.formatter.limits'] = (-2, 3)\n",
    "rcParams['axes.labelsize'] = 16\n",
    "rcParams['font.size'] = 16\n",
    "rcParams['figure.titlesize'] = 20\n",
    "rcParams['axes.titlesize'] = 18"
   ]
  }
 ],
 "metadata": {
  "kernelspec": {
   "display_name": "Python 3",
   "language": "python",
   "name": "python3"
  },
  "language_info": {
   "codemirror_mode": {
    "name": "ipython",
    "version": 3
   },
   "file_extension": ".py",
   "mimetype": "text/x-python",
   "name": "python",
   "nbconvert_exporter": "python",
   "pygments_lexer": "ipython3",
   "version": "3.6.5"
  }
 },
 "nbformat": 4,
 "nbformat_minor": 2
}
