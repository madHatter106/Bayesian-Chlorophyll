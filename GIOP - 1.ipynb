{
 "cells": [
  {
   "cell_type": "code",
   "execution_count": 21,
   "metadata": {},
   "outputs": [],
   "source": [
    "import pandas as pd\n",
    "import numpy as np\n",
    "import matplotlib.pyplot as pl\n",
    "import seaborn\n",
    "import pymc3 as pm\n",
    "% matplotlib inline"
   ]
  },
  {
   "cell_type": "code",
   "execution_count": null,
   "metadata": {
    "collapsed": true
   },
   "outputs": [],
   "source": [
    "dfJeremy = pd.read_pickle('./pickleJar/dfJeremy.pkl')\n",
    "dfGIOP = pd.read_pickle('./pickleJar/dfGIOP.pkl')"
   ]
  },
  {
   "cell_type": "code",
   "execution_count": 111,
   "metadata": {},
   "outputs": [],
   "source": [
    "dfGIOP411 = GetSingleBandDataFrame(dfGIOP, 411)\n",
    "dfGIOP443 = GetSingleBandDataFrame(dfGIOP, 443)\n",
    "dfGIOP489 = GetSingleBandDataFrame(dfGIOP, 489)\n",
    "dfGIOP510 = GetSingleBandDataFrame(dfGIOP, 510)\n",
    "dfGIOP555 = GetSingleBandDataFrame(dfGIOP, 555)"
   ]
  },
  {
   "cell_type": "code",
   "execution_count": 115,
   "metadata": {},
   "outputs": [
    {
     "name": "stdout",
     "output_type": "stream",
     "text": [
      "<class 'pandas.core.frame.DataFrame'>\n",
      "Int64Index: 89 entries, 1286 to 1718\n",
      "Data columns (total 7 columns):\n",
      "rrs411       89 non-null float64\n",
      "adg411       89 non-null float64\n",
      "bbp411       89 non-null float64\n",
      "aph411       89 non-null float64\n",
      "a411         89 non-null float64\n",
      "bb411        89 non-null float64\n",
      "rrs411sub    89 non-null float64\n",
      "dtypes: float64(7)\n",
      "memory usage: 5.6 KB\n"
     ]
    }
   ],
   "source": [
    "dfGIOP411.dropna(inplace=True)\n",
    "dfGIOP411.info()"
   ]
  },
  {
   "cell_type": "code",
   "execution_count": 116,
   "metadata": {},
   "outputs": [
    {
     "name": "stdout",
     "output_type": "stream",
     "text": [
      "<class 'pandas.core.frame.DataFrame'>\n",
      "Int64Index: 95 entries, 1286 to 1718\n",
      "Data columns (total 7 columns):\n",
      "rrs443       95 non-null float64\n",
      "adg443       95 non-null float64\n",
      "bbp443       95 non-null float64\n",
      "aph443       95 non-null float64\n",
      "a443         95 non-null float64\n",
      "bb443        95 non-null float64\n",
      "rrs443sub    95 non-null float64\n",
      "dtypes: float64(7)\n",
      "memory usage: 5.9 KB\n"
     ]
    }
   ],
   "source": [
    "dfGIOP443.dropna(inplace=True)\n",
    "dfGIOP443.info()"
   ]
  },
  {
   "cell_type": "code",
   "execution_count": 117,
   "metadata": {},
   "outputs": [
    {
     "name": "stdout",
     "output_type": "stream",
     "text": [
      "<class 'pandas.core.frame.DataFrame'>\n",
      "Int64Index: 95 entries, 1286 to 1718\n",
      "Data columns (total 7 columns):\n",
      "rrs489       95 non-null float64\n",
      "adg489       95 non-null float64\n",
      "bbp489       95 non-null float64\n",
      "aph489       95 non-null float64\n",
      "a489         95 non-null float64\n",
      "bb489        95 non-null float64\n",
      "rrs489sub    95 non-null float64\n",
      "dtypes: float64(7)\n",
      "memory usage: 5.9 KB\n"
     ]
    }
   ],
   "source": [
    "dfGIOP489.dropna(inplace=True)\n",
    "dfGIOP489.info()"
   ]
  },
  {
   "cell_type": "code",
   "execution_count": 118,
   "metadata": {},
   "outputs": [
    {
     "name": "stdout",
     "output_type": "stream",
     "text": [
      "<class 'pandas.core.frame.DataFrame'>\n",
      "Int64Index: 95 entries, 1286 to 1718\n",
      "Data columns (total 7 columns):\n",
      "rrs510       95 non-null float64\n",
      "adg510       95 non-null float64\n",
      "bbp510       95 non-null float64\n",
      "aph510       95 non-null float64\n",
      "a510         95 non-null float64\n",
      "bb510        95 non-null float64\n",
      "rrs510sub    95 non-null float64\n",
      "dtypes: float64(7)\n",
      "memory usage: 5.9 KB\n"
     ]
    }
   ],
   "source": [
    "dfGIOP510.dropna(inplace=True)\n",
    "dfGIOP510.info()"
   ]
  },
  {
   "cell_type": "code",
   "execution_count": 119,
   "metadata": {},
   "outputs": [
    {
     "name": "stdout",
     "output_type": "stream",
     "text": [
      "<class 'pandas.core.frame.DataFrame'>\n",
      "Int64Index: 92 entries, 1286 to 1718\n",
      "Data columns (total 7 columns):\n",
      "rrs555       92 non-null float64\n",
      "adg555       92 non-null float64\n",
      "bbp555       92 non-null float64\n",
      "aph555       92 non-null float64\n",
      "a555         92 non-null float64\n",
      "bb555        92 non-null float64\n",
      "rrs555sub    92 non-null float64\n",
      "dtypes: float64(7)\n",
      "memory usage: 5.8 KB\n"
     ]
    }
   ],
   "source": [
    "dfGIOP555.dropna(inplace=True)\n",
    "dfGIOP555.info()"
   ]
  },
  {
   "cell_type": "code",
   "execution_count": 120,
   "metadata": {},
   "outputs": [
    {
     "name": "stderr",
     "output_type": "stream",
     "text": [
      "Applied log-transform to epsilon and added transformed epsilon_log_ to model.\n",
      "100%|██████████| 10000/10000 [00:39<00:00, 251.17it/s]\n"
     ]
    }
   ],
   "source": [
    "with pm.Model() as giop1:\n",
    "    g1 = pm.Normal('g1', 0, sd=1)\n",
    "    g2 = pm.Normal('g2', 0, sd=1)\n",
    "    epsilon = pm.HalfCauchy('epsilon',beta=2)\n",
    "    u = dfGIOP443.bb443 / (dfGIOP443.bb443 + dfGIOP443.a443)\n",
    "    lklhd = pm.Normal('lklhd', mu=g1*u + g2*u**2, sd=epsilon,\n",
    "                     observed=dfGIOP443.rrs443sub)\n",
    "    start=pm.find_MAP()\n",
    "    step=pm.NUTS()\n",
    "    trace_giop1 = pm.sample(10000, start=start, step=step)"
   ]
  },
  {
   "cell_type": "code",
   "execution_count": 121,
   "metadata": {},
   "outputs": [
    {
     "data": {
      "text/plain": [
       "array([[<matplotlib.axes._subplots.AxesSubplot object at 0x7f4d5f2f2f60>],\n",
       "       [<matplotlib.axes._subplots.AxesSubplot object at 0x7f4d55f10128>],\n",
       "       [<matplotlib.axes._subplots.AxesSubplot object at 0x7f4d55444320>]], dtype=object)"
      ]
     },
     "execution_count": 121,
     "metadata": {},
     "output_type": "execute_result"
    },
    {
     "data": {
      "image/png": "[encoded data removed]",
      "text/plain": [
       "<matplotlib.figure.Figure at 0x7f4d5f2ec588>"
      ]
     },
     "metadata": {},
     "output_type": "display_data"
    }
   ],
   "source": [
    "pm.autocorrplot(trace_giop1)"
   ]
  },
  {
   "cell_type": "code",
   "execution_count": 122,
   "metadata": {},
   "outputs": [
    {
     "data": {
      "text/plain": [
       "array([<matplotlib.axes._subplots.AxesSubplot object at 0x7f4d543c9dd8>,\n",
       "       <matplotlib.axes._subplots.AxesSubplot object at 0x7f4d5436bb00>,\n",
       "       <matplotlib.axes._subplots.AxesSubplot object at 0x7f4d542ba668>], dtype=object)"
      ]
     },
     "execution_count": 122,
     "metadata": {},
     "output_type": "execute_result"
    },
    {
     "data": {
      "image/png": "[encoded data removed]",
      "text/plain": [
       "<matplotlib.figure.Figure at 0x7f4d543dd898>"
      ]
     },
     "metadata": {},
     "output_type": "display_data"
    }
   ],
   "source": [
    "pm.plot_posterior(trace_giop1[1000:]);"
   ]
  },
  {
   "cell_type": "code",
   "execution_count": null,
   "metadata": {
    "collapsed": true
   },
   "outputs": [],
   "source": []
  }
 ],
 "metadata": {
  "kernelspec": {
   "display_name": "Python [conda root]",
   "language": "python",
   "name": "conda-root-py"
  },
  "language_info": {
   "codemirror_mode": {
    "name": "ipython",
    "version": 3
   },
   "file_extension": ".py",
   "mimetype": "text/x-python",
   "name": "python",
   "nbconvert_exporter": "python",
   "pygments_lexer": "ipython3",
   "version": "3.5.2"
  }
 },
 "nbformat": 4,
 "nbformat_minor": 2
}
