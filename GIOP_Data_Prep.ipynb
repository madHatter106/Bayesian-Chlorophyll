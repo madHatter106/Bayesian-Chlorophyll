{
 "cells": [
  {
   "cell_type": "code",
   "execution_count": 17,
   "metadata": {
    "collapsed": true
   },
   "outputs": [],
   "source": [
    "import pathlib\n",
    "import re\n",
    "\n",
    "import pandas as pd\n",
    "import numpy as np"
   ]
  },
  {
   "cell_type": "code",
   "execution_count": 24,
   "metadata": {
    "collapsed": true
   },
   "outputs": [],
   "source": [
    "home=pathlib.Path.home()\n",
    "data_path = home /'DATA/OceanColor/dfNomadRaw.pkl'\n",
    "data_path2 = home/'DATA/OceanColor/JeremyOCx_data'\n",
    "df1 = pd.read_pickle(data_path)\n",
    "df2 = pd.read_pickle(data_path2)"
   ]
  },
  {
   "cell_type": "code",
   "execution_count": 25,
   "metadata": {
    "collapsed": true
   },
   "outputs": [],
   "source": [
    "df1.fillna('-999', inplace=True)"
   ]
  },
  {
   "cell_type": "code",
   "execution_count": 28,
   "metadata": {},
   "outputs": [],
   "source": [
    "df1.replace('-999', np.NaN, inplace=True)"
   ]
  },
  {
   "cell_type": "code",
   "execution_count": 29,
   "metadata": {},
   "outputs": [
    {
     "data": {
      "text/html": [
       "<div>\n",
       "<style scoped>\n",
       "    .dataframe tbody tr th:only-of-type {\n",
       "        vertical-align: middle;\n",
       "    }\n",
       "\n",
       "    .dataframe tbody tr th {\n",
       "        vertical-align: top;\n",
       "    }\n",
       "\n",
       "    .dataframe thead th {\n",
       "        text-align: right;\n",
       "    }\n",
       "</style>\n",
       "<table border=\"1\" class=\"dataframe\">\n",
       "  <thead>\n",
       "    <tr style=\"text-align: right;\">\n",
       "      <th></th>\n",
       "      <th>chl</th>\n",
       "      <th>chl_a</th>\n",
       "    </tr>\n",
       "  </thead>\n",
       "  <tbody>\n",
       "    <tr>\n",
       "      <th>0</th>\n",
       "      <td>38.19</td>\n",
       "      <td>NaN</td>\n",
       "    </tr>\n",
       "    <tr>\n",
       "      <th>1</th>\n",
       "      <td>35.01</td>\n",
       "      <td>NaN</td>\n",
       "    </tr>\n",
       "    <tr>\n",
       "      <th>2</th>\n",
       "      <td>26.91</td>\n",
       "      <td>NaN</td>\n",
       "    </tr>\n",
       "    <tr>\n",
       "      <th>3</th>\n",
       "      <td>47.96</td>\n",
       "      <td>NaN</td>\n",
       "    </tr>\n",
       "    <tr>\n",
       "      <th>4</th>\n",
       "      <td>23.55</td>\n",
       "      <td>NaN</td>\n",
       "    </tr>\n",
       "  </tbody>\n",
       "</table>\n",
       "</div>"
      ],
      "text/plain": [
       "     chl chl_a\n",
       "0  38.19   NaN\n",
       "1  35.01   NaN\n",
       "2  26.91   NaN\n",
       "3  47.96   NaN\n",
       "4  23.55   NaN"
      ]
     },
     "execution_count": 29,
     "metadata": {},
     "output_type": "execute_result"
    }
   ],
   "source": [
    "df1[['chl', 'chl_a']].head()"
   ]
  },
  {
   "cell_type": "code",
   "execution_count": null,
   "metadata": {
    "collapsed": true
   },
   "outputs": [],
   "source": []
  },
  {
   "cell_type": "code",
   "execution_count": 30,
   "metadata": {},
   "outputs": [
    {
     "name": "stdout",
     "output_type": "stream",
     "text": [
      "<class 'pandas.core.frame.DataFrame'>\n",
      "RangeIndex: 4459 entries, 0 to 4458\n",
      "Data columns (total 2 columns):\n",
      "chl      3392 non-null object\n",
      "chl_a    1381 non-null object\n",
      "dtypes: object(2)\n",
      "memory usage: 69.8+ KB\n"
     ]
    }
   ],
   "source": [
    "df1[['chl', 'chl_a']].info()"
   ]
  },
  {
   "cell_type": "code",
   "execution_count": 7,
   "metadata": {},
   "outputs": [
    {
     "name": "stdout",
     "output_type": "stream",
     "text": [
      "<class 'pandas.core.frame.DataFrame'>\n",
      "RangeIndex: 4459 entries, 0 to 4458\n",
      "Columns: 212 entries, lat to Datetime\n",
      "dtypes: datetime64[ns](1), object(211)\n",
      "memory usage: 7.2+ MB\n"
     ]
    }
   ],
   "source": [
    "df1.info()"
   ]
  },
  {
   "cell_type": "code",
   "execution_count": 6,
   "metadata": {},
   "outputs": [
    {
     "name": "stdout",
     "output_type": "stream",
     "text": [
      "<class 'pandas.core.frame.DataFrame'>\n",
      "RangeIndex: 2483 entries, 0 to 2482\n",
      "Data columns (total 54 columns):\n",
      "cruise      2483 non-null object\n",
      "lat         2483 non-null object\n",
      "lon         2483 non-null object\n",
      "type        2483 non-null object\n",
      "chl         2483 non-null object\n",
      "rrs443      2483 non-null object\n",
      "rrs489      2483 non-null object\n",
      "rrs510      2483 non-null object\n",
      "rrs555      2483 non-null object\n",
      "rrs670      2483 non-null object\n",
      "rrs469      2483 non-null object\n",
      "rrs486      2483 non-null object\n",
      "rrs516      2483 non-null object\n",
      "rrs520      2483 non-null object\n",
      "rrs547      2483 non-null object\n",
      "rrs550      2483 non-null object\n",
      "rrs560      2483 non-null object\n",
      "rrs565      2483 non-null object\n",
      "rrs411      2483 non-null object\n",
      "Sdg         2483 non-null object\n",
      "adg405      2483 non-null object\n",
      "adg411      2483 non-null object\n",
      "adg443      2483 non-null object\n",
      "adg489      2483 non-null object\n",
      "adg510      2483 non-null object\n",
      "adg530      2483 non-null object\n",
      "adg555      2483 non-null object\n",
      "eta         2483 non-null object\n",
      "bbp405      2483 non-null object\n",
      "bbp411      2483 non-null object\n",
      "bbp443      2483 non-null object\n",
      "bbp489      2483 non-null object\n",
      "bbp510      2483 non-null object\n",
      "bbp530      2483 non-null object\n",
      "bbp555      2483 non-null object\n",
      "aph405      2483 non-null object\n",
      "aph411      2483 non-null object\n",
      "aph443      2483 non-null object\n",
      "aph489      2483 non-null object\n",
      "aph510      2483 non-null object\n",
      "aph530      2483 non-null object\n",
      "aph555      2483 non-null object\n",
      "aph670      2483 non-null object\n",
      "aph683      2483 non-null object\n",
      "zeu         2483 non-null object\n",
      "kpar        2483 non-null object\n",
      "kd405       2483 non-null object\n",
      "kd411       2483 non-null object\n",
      "kd443       2483 non-null object\n",
      "kd489       2483 non-null object\n",
      "kd510       2483 non-null object\n",
      "kd530       2483 non-null object\n",
      "kd555       2483 non-null object\n",
      "Datetime    2483 non-null datetime64[ns]\n",
      "dtypes: datetime64[ns](1), object(53)\n",
      "memory usage: 1.0+ MB\n"
     ]
    }
   ],
   "source": [
    "df2.info()"
   ]
  },
  {
   "cell_type": "code",
   "execution_count": 20,
   "metadata": {
    "collapsed": true
   },
   "outputs": [],
   "source": [
    "cols = dfJeremy.columns.tolist()"
   ]
  },
  {
   "cell_type": "code",
   "execution_count": 8,
   "metadata": {},
   "outputs": [
    {
     "data": {
      "text/plain": [
       "['cruise',\n",
       " 'lat',\n",
       " 'lon',\n",
       " 'type',\n",
       " 'chl',\n",
       " 'rrs443',\n",
       " 'rrs489',\n",
       " 'rrs510',\n",
       " 'rrs555',\n",
       " 'rrs670',\n",
       " 'rrs469',\n",
       " 'rrs486',\n",
       " 'rrs516',\n",
       " 'rrs520',\n",
       " 'rrs547',\n",
       " 'rrs550',\n",
       " 'rrs560',\n",
       " 'rrs565',\n",
       " 'rrs411',\n",
       " 'Sdg',\n",
       " 'adg405',\n",
       " 'adg411',\n",
       " 'adg443',\n",
       " 'adg489',\n",
       " 'adg510',\n",
       " 'adg530',\n",
       " 'adg555',\n",
       " 'eta',\n",
       " 'bbp405',\n",
       " 'bbp411',\n",
       " 'bbp443',\n",
       " 'bbp489',\n",
       " 'bbp510',\n",
       " 'bbp530',\n",
       " 'bbp555',\n",
       " 'aph405',\n",
       " 'aph411',\n",
       " 'aph443',\n",
       " 'aph489',\n",
       " 'aph510',\n",
       " 'aph530',\n",
       " 'aph555',\n",
       " 'aph670',\n",
       " 'aph683',\n",
       " 'zeu',\n",
       " 'kpar',\n",
       " 'kd405',\n",
       " 'kd411',\n",
       " 'kd443',\n",
       " 'kd489',\n",
       " 'kd510',\n",
       " 'kd530',\n",
       " 'kd555',\n",
       " 'Datetime']"
      ]
     },
     "execution_count": 8,
     "metadata": {},
     "output_type": "execute_result"
    }
   ],
   "source": [
    "df2.columns.tolist()"
   ]
  },
  {
   "cell_type": "code",
   "execution_count": 38,
   "metadata": {},
   "outputs": [
    {
     "data": {
      "text/plain": [
       "Index(['cruise', 'lat', 'lon', 'type', 'chl', 'rrs443', 'rrs489', 'rrs510',\n",
       "       'rrs555', 'rrs670', 'rrs469', 'rrs486', 'rrs516', 'rrs520', 'rrs547',\n",
       "       'rrs550', 'rrs560', 'rrs565', 'rrs411', 'Sdg', 'adg405', 'adg411',\n",
       "       'adg443', 'adg489', 'adg510', 'adg530', 'adg555', 'eta', 'bbp405',\n",
       "       'bbp411', 'bbp443', 'bbp489', 'bbp510', 'bbp530', 'bbp555', 'aph405',\n",
       "       'aph411', 'aph443', 'aph489', 'aph510', 'aph530', 'aph555', 'aph670',\n",
       "       'aph683', 'zeu', 'kpar', 'kd405', 'kd411', 'kd443', 'kd489', 'kd510',\n",
       "       'kd530', 'kd555', 'Datetime', 'mxBl2GrSwf'],\n",
       "      dtype='object')"
      ]
     },
     "execution_count": 38,
     "metadata": {},
     "output_type": "execute_result"
    }
   ],
   "source": [
    "dfJeremy.columns"
   ]
  },
  {
   "cell_type": "code",
   "execution_count": 105,
   "metadata": {
    "collapsed": true
   },
   "outputs": [],
   "source": [
    "def GetBandsRe(startswith='rrs'):\n",
    "    return re.compile('^%s([0-9]+)' % startswith)\n",
    "\n",
    "def GetBands(reFinder, sort=True):\n",
    "    bandlist = [reFinder.findall(c)[0] for c in cols if reFinder.findall(c)]\n",
    "    if sort:\n",
    "        bandlist.sort()\n",
    "    return bandlist\n",
    "\n",
    "def GetSingleBandDataFrame(df, band):\n",
    "    return df.filter(regex='([\\w]+%d)' % band)"
   ]
  },
  {
   "cell_type": "code",
   "execution_count": 39,
   "metadata": {
    "collapsed": true
   },
   "outputs": [],
   "source": [
    "rrsbands = GetBands(GetBandsRe())\n",
    "adgbands = GetBands(GetBandsRe('adg'))\n",
    "aphbands = GetBands(GetBandsRe('aph'))\n",
    "bbpbands = GetBands(GetBandsRe('bbp'))"
   ]
  },
  {
   "cell_type": "code",
   "execution_count": 48,
   "metadata": {},
   "outputs": [
    {
     "data": {
      "text/plain": [
       "['411', '443', '489', '510', '555']"
      ]
     },
     "execution_count": 48,
     "metadata": {},
     "output_type": "execute_result"
    }
   ],
   "source": [
    "# finding common bands\n",
    "commonbands = list(set(rrsbands).intersection(adgbands).intersection(aphbands).intersection(bbpbands))\n",
    "commonbands.sort()\n",
    "commonbands"
   ]
  },
  {
   "cell_type": "code",
   "execution_count": 50,
   "metadata": {
    "collapsed": true
   },
   "outputs": [],
   "source": [
    "# FROM IDL routines get_aw.pro and get_bw.pro\n",
    "aw = {405: 0.00545821, 411: 0.00471065, 443: 0.00709810, 489: 0.0149089,\n",
    "      510: 0.0325987, 530: 0.0435704, 555: 0.0596488, 670: 0.440188, \n",
    "      683: 0.479974\n",
    "     }\n",
    "bw = {405: 0.00360145, 411: 0.00337976, 443: 0.00244466, 489: 0.00159540,\n",
    "      510: 0.00133039, 530: 0.00112671, 555: 0.000923288, 670: 0.000409298,\n",
    "      683: 0.000376691\n",
    "     }"
   ]
  },
  {
   "cell_type": "code",
   "execution_count": 57,
   "metadata": {
    "collapsed": true
   },
   "outputs": [],
   "source": [
    "for band in commonbands:\n",
    "    dfJeremy['a%s' % band] = dfJeremy['aph%s' % band] +\\\n",
    "                             dfJeremy['adg%s' % band] + \\\n",
    "                             aw[int(band)]\n",
    "    dfJeremy['bb%s' % band] = dfJeremy['bbp%s' % band] + bw[int(band)]"
   ]
  },
  {
   "cell_type": "code",
   "execution_count": 86,
   "metadata": {},
   "outputs": [
    {
     "data": {
      "text/plain": [
       "'^(([a-b][\\\\w]*|rrs)(411|443|489|510|555)|chl|type)'"
      ]
     },
     "execution_count": 86,
     "metadata": {},
     "output_type": "execute_result"
    }
   ],
   "source": [
    "filterString = '^(([a-b][\\w]*|rrs)(' + '|'.join(commonbands) +')|chl|type)'\n",
    "filterString"
   ]
  },
  {
   "cell_type": "code",
   "execution_count": 87,
   "metadata": {},
   "outputs": [
    {
     "data": {
      "text/plain": [
       "Index(['type', 'chl', 'rrs443', 'rrs489', 'rrs510', 'rrs555', 'rrs411',\n",
       "       'adg411', 'adg443', 'adg489', 'adg510', 'adg555', 'bbp411', 'bbp443',\n",
       "       'bbp489', 'bbp510', 'bbp555', 'aph411', 'aph443', 'aph489', 'aph510',\n",
       "       'aph555', 'a411', 'bb411', 'a443', 'bb443', 'a489', 'bb489', 'a510',\n",
       "       'bb510', 'a555', 'bb555'],\n",
       "      dtype='object')"
      ]
     },
     "execution_count": 87,
     "metadata": {},
     "output_type": "execute_result"
    }
   ],
   "source": [
    "dfJeremy.filter(regex=filterString).columns"
   ]
  },
  {
   "cell_type": "code",
   "execution_count": 92,
   "metadata": {
    "collapsed": true
   },
   "outputs": [],
   "source": [
    "dfGIOP = dfJeremy.filter(regex=filterString)"
   ]
  },
  {
   "cell_type": "code",
   "execution_count": 93,
   "metadata": {
    "collapsed": true
   },
   "outputs": [],
   "source": [
    "for b in commonbands:\n",
    "    rrs = dfGIOP['rrs%s' %b]\n",
    "    dfGIOP['rrs%ssub' %b] = rrs / (0.52 + 1.7 *rrs)"
   ]
  },
  {
   "cell_type": "code",
   "execution_count": 124,
   "metadata": {
    "collapsed": true
   },
   "outputs": [],
   "source": [
    "dfGIOP.to_pickle('./pickleJar/dfGIOP.pkl')\n",
    "dfJeremy.to_pickle('./pickleJar/dfJeremy.pkl')"
   ]
  }
 ],
 "metadata": {
  "kernelspec": {
   "display_name": "Python 3",
   "language": "python",
   "name": "python3"
  },
  "language_info": {
   "codemirror_mode": {
    "name": "ipython",
    "version": 3
   },
   "file_extension": ".py",
   "mimetype": "text/x-python",
   "name": "python",
   "nbconvert_exporter": "python",
   "pygments_lexer": "ipython3",
   "version": "3.6.3"
  }
 },
 "nbformat": 4,
 "nbformat_minor": 2
}
