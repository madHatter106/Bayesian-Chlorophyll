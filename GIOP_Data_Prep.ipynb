{
 "cells": [
  {
   "cell_type": "code",
   "execution_count": 21,
   "metadata": {
    "collapsed": true
   },
   "outputs": [],
   "source": [
    "import pandas as pd\n",
    "import re"
   ]
  },
  {
   "cell_type": "code",
   "execution_count": 3,
   "metadata": {
    "collapsed": true
   },
   "outputs": [],
   "source": [
    "jeremyDataPath='/accounts/ekarakoy/DATA/NOMAD/JeremyOCx_DF.pkl'\n",
    "dfJeremy=pd.read_pickle(jeremyDataPath)"
   ]
  },
  {
   "cell_type": "code",
   "execution_count": 20,
   "metadata": {
    "collapsed": true
   },
   "outputs": [],
   "source": [
    "cols = dfJeremy.columns.tolist()"
   ]
  },
  {
   "cell_type": "code",
   "execution_count": 38,
   "metadata": {},
   "outputs": [
    {
     "data": {
      "text/plain": [
       "Index(['cruise', 'lat', 'lon', 'type', 'chl', 'rrs443', 'rrs489', 'rrs510',\n",
       "       'rrs555', 'rrs670', 'rrs469', 'rrs486', 'rrs516', 'rrs520', 'rrs547',\n",
       "       'rrs550', 'rrs560', 'rrs565', 'rrs411', 'Sdg', 'adg405', 'adg411',\n",
       "       'adg443', 'adg489', 'adg510', 'adg530', 'adg555', 'eta', 'bbp405',\n",
       "       'bbp411', 'bbp443', 'bbp489', 'bbp510', 'bbp530', 'bbp555', 'aph405',\n",
       "       'aph411', 'aph443', 'aph489', 'aph510', 'aph530', 'aph555', 'aph670',\n",
       "       'aph683', 'zeu', 'kpar', 'kd405', 'kd411', 'kd443', 'kd489', 'kd510',\n",
       "       'kd530', 'kd555', 'Datetime', 'mxBl2GrSwf'],\n",
       "      dtype='object')"
      ]
     },
     "execution_count": 38,
     "metadata": {},
     "output_type": "execute_result"
    }
   ],
   "source": [
    "dfJeremy.columns"
   ]
  },
  {
   "cell_type": "code",
   "execution_count": 105,
   "metadata": {
    "collapsed": true
   },
   "outputs": [],
   "source": [
    "def GetBandsRe(startswith='rrs'):\n",
    "    return re.compile('^%s([0-9]+)' % startswith)\n",
    "\n",
    "def GetBands(reFinder, sort=True):\n",
    "    bandlist = [reFinder.findall(c)[0] for c in cols if reFinder.findall(c)]\n",
    "    if sort:\n",
    "        bandlist.sort()\n",
    "    return bandlist\n",
    "\n",
    "def GetSingleBandDataFrame(df, band):\n",
    "    return df.filter(regex='([\\w]+%d)' % band)"
   ]
  },
  {
   "cell_type": "code",
   "execution_count": 39,
   "metadata": {
    "collapsed": true
   },
   "outputs": [],
   "source": [
    "rrsbands = GetBands(GetBandsRe())\n",
    "adgbands = GetBands(GetBandsRe('adg'))\n",
    "aphbands = GetBands(GetBandsRe('aph'))\n",
    "bbpbands = GetBands(GetBandsRe('bbp'))"
   ]
  },
  {
   "cell_type": "code",
   "execution_count": 48,
   "metadata": {},
   "outputs": [
    {
     "data": {
      "text/plain": [
       "['411', '443', '489', '510', '555']"
      ]
     },
     "execution_count": 48,
     "metadata": {},
     "output_type": "execute_result"
    }
   ],
   "source": [
    "# finding common bands\n",
    "commonbands = list(set(rrsbands).intersection(adgbands).intersection(aphbands).intersection(bbpbands))\n",
    "commonbands.sort()\n",
    "commonbands"
   ]
  },
  {
   "cell_type": "code",
   "execution_count": 50,
   "metadata": {
    "collapsed": true
   },
   "outputs": [],
   "source": [
    "# FROM IDL routines get_aw.pro and get_bw.pro\n",
    "aw = {405: 0.00545821, 411: 0.00471065, 443: 0.00709810, 489: 0.0149089,\n",
    "      510: 0.0325987, 530: 0.0435704, 555: 0.0596488, 670: 0.440188, \n",
    "      683: 0.479974\n",
    "     }\n",
    "bw = {405: 0.00360145, 411: 0.00337976, 443: 0.00244466, 489: 0.00159540,\n",
    "      510: 0.00133039, 530: 0.00112671, 555: 0.000923288, 670: 0.000409298,\n",
    "      683: 0.000376691\n",
    "     }"
   ]
  },
  {
   "cell_type": "code",
   "execution_count": 57,
   "metadata": {
    "collapsed": true
   },
   "outputs": [],
   "source": [
    "for band in commonbands:\n",
    "    dfJeremy['a%s' % band] = dfJeremy['aph%s' % band] +\\\n",
    "                             dfJeremy['adg%s' % band] + \\\n",
    "                             aw[int(band)]\n",
    "    dfJeremy['bb%s' % band] = dfJeremy['bbp%s' % band] + bw[int(band)]"
   ]
  },
  {
   "cell_type": "code",
   "execution_count": 86,
   "metadata": {},
   "outputs": [
    {
     "data": {
      "text/plain": [
       "'^(([a-b][\\\\w]*|rrs)(411|443|489|510|555)|chl|type)'"
      ]
     },
     "execution_count": 86,
     "metadata": {},
     "output_type": "execute_result"
    }
   ],
   "source": [
    "filterString = '^(([a-b][\\w]*|rrs)(' + '|'.join(commonbands) +')|chl|type)'\n",
    "filterString"
   ]
  },
  {
   "cell_type": "code",
   "execution_count": 87,
   "metadata": {},
   "outputs": [
    {
     "data": {
      "text/plain": [
       "Index(['type', 'chl', 'rrs443', 'rrs489', 'rrs510', 'rrs555', 'rrs411',\n",
       "       'adg411', 'adg443', 'adg489', 'adg510', 'adg555', 'bbp411', 'bbp443',\n",
       "       'bbp489', 'bbp510', 'bbp555', 'aph411', 'aph443', 'aph489', 'aph510',\n",
       "       'aph555', 'a411', 'bb411', 'a443', 'bb443', 'a489', 'bb489', 'a510',\n",
       "       'bb510', 'a555', 'bb555'],\n",
       "      dtype='object')"
      ]
     },
     "execution_count": 87,
     "metadata": {},
     "output_type": "execute_result"
    }
   ],
   "source": [
    "dfJeremy.filter(regex=filterString).columns"
   ]
  },
  {
   "cell_type": "code",
   "execution_count": 92,
   "metadata": {
    "collapsed": true
   },
   "outputs": [],
   "source": [
    "dfGIOP = dfJeremy.filter(regex=filterString)"
   ]
  },
  {
   "cell_type": "code",
   "execution_count": 93,
   "metadata": {
    "collapsed": true
   },
   "outputs": [],
   "source": [
    "for b in commonbands:\n",
    "    rrs = dfGIOP['rrs%s' %b]\n",
    "    dfGIOP['rrs%ssub' %b] = rrs / (0.52 + 1.7 *rrs)"
   ]
  },
  {
   "cell_type": "code",
   "execution_count": 124,
   "metadata": {
    "collapsed": true
   },
   "outputs": [],
   "source": [
    "dfGIOP.to_pickle('./pickleJar/dfGIOP.pkl')\n",
    "dfJeremy.to_pickle('./pickleJar/dfJeremy.pkl')"
   ]
  }
 ],
 "metadata": {
  "kernelspec": {
   "display_name": "Python [conda root]",
   "language": "python",
   "name": "conda-root-py"
  },
  "language_info": {
   "codemirror_mode": {
    "name": "ipython",
    "version": 3
   },
   "file_extension": ".py",
   "mimetype": "text/x-python",
   "name": "python",
   "nbconvert_exporter": "python",
   "pygments_lexer": "ipython3",
   "version": "3.5.2"
  }
 },
 "nbformat": 4,
 "nbformat_minor": 2
}
