{
 "cells": [
  {
   "cell_type": "markdown",
   "metadata": {},
   "source": [
    "This notebook describes the preparation of a NOMAD v.2 based dataset that I will use to reproduce the OC4v6 fitting process, with the aim of comparing it to Bayesian linear regression. I'm interested in the latter for the uncertainties that it will yield. That however, the subject of another post."
   ]
  },
  {
   "cell_type": "code",
   "execution_count": 1,
   "metadata": {
    "collapsed": true
   },
   "outputs": [],
   "source": [
    "import pandas as pd\n",
    "import os\n",
    "import pathlib"
   ]
  },
  {
   "cell_type": "code",
   "execution_count": 2,
   "metadata": {
    "collapsed": true
   },
   "outputs": [],
   "source": [
    "home = pathlib.Path.home()\n",
    "fp = home / 'DATA/NOMAD/dfNomadSWF.pkl'\n",
    "df = pd.read_pickle(fp)"
   ]
  },
  {
   "cell_type": "code",
   "execution_count": 3,
   "metadata": {},
   "outputs": [
    {
     "name": "stdout",
     "output_type": "stream",
     "text": [
      "<class 'pandas.core.frame.DataFrame'>\n",
      "RangeIndex: 4459 entries, 0 to 4458\n",
      "Data columns (total 44 columns):\n",
      "rrs411      4459 non-null float64\n",
      "rrs443      4459 non-null float64\n",
      "rrs489      4459 non-null float64\n",
      "rrs510      4459 non-null float64\n",
      "rrs555      4459 non-null float64\n",
      "rrs670      4459 non-null float64\n",
      "datetime    4459 non-null datetime64[ns]\n",
      "hplc_chl    1381 non-null float64\n",
      "fluo_chl    3392 non-null float64\n",
      "lat         4459 non-null float64\n",
      "lon         4459 non-null float64\n",
      "a411        1131 non-null float64\n",
      "ad411       1231 non-null float64\n",
      "ag411       1182 non-null float64\n",
      "ap411       1272 non-null float64\n",
      "bb411       369 non-null float64\n",
      "a443        1138 non-null float64\n",
      "ad443       1238 non-null float64\n",
      "ag443       1182 non-null float64\n",
      "ap443       1279 non-null float64\n",
      "bb443       369 non-null float64\n",
      "a489        1137 non-null float64\n",
      "ad489       1237 non-null float64\n",
      "ag489       1182 non-null float64\n",
      "ap489       1278 non-null float64\n",
      "bb489       369 non-null float64\n",
      "a510        1136 non-null float64\n",
      "ad510       1237 non-null float64\n",
      "ag510       1181 non-null float64\n",
      "ap510       1278 non-null float64\n",
      "bb510       369 non-null float64\n",
      "a555        1122 non-null float64\n",
      "ad555       1221 non-null float64\n",
      "ag555       1181 non-null float64\n",
      "ap555       1262 non-null float64\n",
      "bb555       369 non-null float64\n",
      "a670        1086 non-null float64\n",
      "ad670       1228 non-null float64\n",
      "ag670       1137 non-null float64\n",
      "ap670       1270 non-null float64\n",
      "bb670       369 non-null float64\n",
      "depth       4459 non-null float64\n",
      "sst         4459 non-null float64\n",
      "id          4459 non-null int32\n",
      "dtypes: datetime64[ns](1), float64(42), int32(1)\n",
      "memory usage: 1.5 MB\n"
     ]
    }
   ],
   "source": [
    "df.info()"
   ]
  },
  {
   "cell_type": "code",
   "execution_count": 5,
   "metadata": {},
   "outputs": [],
   "source": [
    "colIwant=['id', 'depth','rrs411','rrs443','rrs489', 'rrs510','rrs555','rrs670',\n",
    "          'hplc_chl','fluo_chl', 'sst', 'lat', 'lon', 'datetime']\n",
    "dfOreilly = df[colIwant]"
   ]
  },
  {
   "cell_type": "code",
   "execution_count": 6,
   "metadata": {},
   "outputs": [
    {
     "data": {
      "text/html": [
       "<div>\n",
       "<style scoped>\n",
       "    .dataframe tbody tr th:only-of-type {\n",
       "        vertical-align: middle;\n",
       "    }\n",
       "\n",
       "    .dataframe tbody tr th {\n",
       "        vertical-align: top;\n",
       "    }\n",
       "\n",
       "    .dataframe thead th {\n",
       "        text-align: right;\n",
       "    }\n",
       "</style>\n",
       "<table border=\"1\" class=\"dataframe\">\n",
       "  <thead>\n",
       "    <tr style=\"text-align: right;\">\n",
       "      <th></th>\n",
       "      <th>id</th>\n",
       "      <th>depth</th>\n",
       "      <th>rrs411</th>\n",
       "      <th>rrs443</th>\n",
       "      <th>rrs489</th>\n",
       "      <th>rrs510</th>\n",
       "      <th>rrs555</th>\n",
       "      <th>rrs670</th>\n",
       "      <th>hplc_chl</th>\n",
       "      <th>fluo_chl</th>\n",
       "      <th>sst</th>\n",
       "      <th>lat</th>\n",
       "      <th>lon</th>\n",
       "    </tr>\n",
       "  </thead>\n",
       "  <tbody>\n",
       "    <tr>\n",
       "      <th>count</th>\n",
       "      <td>4459.000000</td>\n",
       "      <td>4459.000000</td>\n",
       "      <td>4459.000000</td>\n",
       "      <td>4459.000000</td>\n",
       "      <td>4459.000000</td>\n",
       "      <td>4459.000000</td>\n",
       "      <td>4459.000000</td>\n",
       "      <td>4459.000000</td>\n",
       "      <td>1381.000000</td>\n",
       "      <td>3392.000000</td>\n",
       "      <td>4459.000000</td>\n",
       "      <td>4459.000000</td>\n",
       "      <td>4459.000000</td>\n",
       "    </tr>\n",
       "    <tr>\n",
       "      <th>mean</th>\n",
       "      <td>4377.381251</td>\n",
       "      <td>1312.346715</td>\n",
       "      <td>-0.117524</td>\n",
       "      <td>-0.002515</td>\n",
       "      <td>-0.078922</td>\n",
       "      <td>0.196083</td>\n",
       "      <td>0.251945</td>\n",
       "      <td>0.568632</td>\n",
       "      <td>2.285293</td>\n",
       "      <td>2.703251</td>\n",
       "      <td>14.841534</td>\n",
       "      <td>1.868658</td>\n",
       "      <td>-61.592062</td>\n",
       "    </tr>\n",
       "    <tr>\n",
       "      <th>std</th>\n",
       "      <td>2298.272102</td>\n",
       "      <td>1766.435289</td>\n",
       "      <td>5.308161</td>\n",
       "      <td>0.289728</td>\n",
       "      <td>1.080335</td>\n",
       "      <td>0.626941</td>\n",
       "      <td>0.520492</td>\n",
       "      <td>1.331805</td>\n",
       "      <td>5.752391</td>\n",
       "      <td>5.611762</td>\n",
       "      <td>10.374969</td>\n",
       "      <td>44.765125</td>\n",
       "      <td>53.894958</td>\n",
       "    </tr>\n",
       "    <tr>\n",
       "      <th>min</th>\n",
       "      <td>6.000000</td>\n",
       "      <td>0.000000</td>\n",
       "      <td>-325.392327</td>\n",
       "      <td>-14.690636</td>\n",
       "      <td>-22.160603</td>\n",
       "      <td>-16.837003</td>\n",
       "      <td>-13.826090</td>\n",
       "      <td>-41.858711</td>\n",
       "      <td>0.017000</td>\n",
       "      <td>0.012000</td>\n",
       "      <td>-1.800000</td>\n",
       "      <td>-77.035600</td>\n",
       "      <td>-179.955000</td>\n",
       "    </tr>\n",
       "    <tr>\n",
       "      <th>25%</th>\n",
       "      <td>2028.500000</td>\n",
       "      <td>18.000000</td>\n",
       "      <td>0.002555</td>\n",
       "      <td>0.002615</td>\n",
       "      <td>0.003011</td>\n",
       "      <td>0.002963</td>\n",
       "      <td>0.001694</td>\n",
       "      <td>0.001545</td>\n",
       "      <td>0.145000</td>\n",
       "      <td>0.274000</td>\n",
       "      <td>1.860000</td>\n",
       "      <td>-61.299000</td>\n",
       "      <td>-82.699950</td>\n",
       "    </tr>\n",
       "    <tr>\n",
       "      <th>50%</th>\n",
       "      <td>5039.000000</td>\n",
       "      <td>240.000000</td>\n",
       "      <td>0.004068</td>\n",
       "      <td>0.003896</td>\n",
       "      <td>0.004128</td>\n",
       "      <td>0.003737</td>\n",
       "      <td>0.002656</td>\n",
       "      <td>1.000000</td>\n",
       "      <td>0.538000</td>\n",
       "      <td>0.830000</td>\n",
       "      <td>16.380000</td>\n",
       "      <td>27.093000</td>\n",
       "      <td>-67.675000</td>\n",
       "    </tr>\n",
       "    <tr>\n",
       "      <th>75%</th>\n",
       "      <td>6271.500000</td>\n",
       "      <td>2789.500000</td>\n",
       "      <td>0.006696</td>\n",
       "      <td>0.006074</td>\n",
       "      <td>0.005644</td>\n",
       "      <td>0.009465</td>\n",
       "      <td>1.000000</td>\n",
       "      <td>1.000000</td>\n",
       "      <td>1.694000</td>\n",
       "      <td>2.240080</td>\n",
       "      <td>24.430000</td>\n",
       "      <td>34.458500</td>\n",
       "      <td>-63.961500</td>\n",
       "    </tr>\n",
       "    <tr>\n",
       "      <th>max</th>\n",
       "      <td>7831.000000</td>\n",
       "      <td>7978.000000</td>\n",
       "      <td>1.000000</td>\n",
       "      <td>0.036769</td>\n",
       "      <td>0.063814</td>\n",
       "      <td>1.000000</td>\n",
       "      <td>1.000000</td>\n",
       "      <td>1.000000</td>\n",
       "      <td>70.213300</td>\n",
       "      <td>77.864800</td>\n",
       "      <td>30.890000</td>\n",
       "      <td>79.690000</td>\n",
       "      <td>179.907000</td>\n",
       "    </tr>\n",
       "  </tbody>\n",
       "</table>\n",
       "</div>"
      ],
      "text/plain": [
       "                id        depth       rrs411       rrs443       rrs489  \\\n",
       "count  4459.000000  4459.000000  4459.000000  4459.000000  4459.000000   \n",
       "mean   4377.381251  1312.346715    -0.117524    -0.002515    -0.078922   \n",
       "std    2298.272102  1766.435289     5.308161     0.289728     1.080335   \n",
       "min       6.000000     0.000000  -325.392327   -14.690636   -22.160603   \n",
       "25%    2028.500000    18.000000     0.002555     0.002615     0.003011   \n",
       "50%    5039.000000   240.000000     0.004068     0.003896     0.004128   \n",
       "75%    6271.500000  2789.500000     0.006696     0.006074     0.005644   \n",
       "max    7831.000000  7978.000000     1.000000     0.036769     0.063814   \n",
       "\n",
       "            rrs510       rrs555       rrs670     hplc_chl     fluo_chl  \\\n",
       "count  4459.000000  4459.000000  4459.000000  1381.000000  3392.000000   \n",
       "mean      0.196083     0.251945     0.568632     2.285293     2.703251   \n",
       "std       0.626941     0.520492     1.331805     5.752391     5.611762   \n",
       "min     -16.837003   -13.826090   -41.858711     0.017000     0.012000   \n",
       "25%       0.002963     0.001694     0.001545     0.145000     0.274000   \n",
       "50%       0.003737     0.002656     1.000000     0.538000     0.830000   \n",
       "75%       0.009465     1.000000     1.000000     1.694000     2.240080   \n",
       "max       1.000000     1.000000     1.000000    70.213300    77.864800   \n",
       "\n",
       "               sst          lat          lon  \n",
       "count  4459.000000  4459.000000  4459.000000  \n",
       "mean     14.841534     1.868658   -61.592062  \n",
       "std      10.374969    44.765125    53.894958  \n",
       "min      -1.800000   -77.035600  -179.955000  \n",
       "25%       1.860000   -61.299000   -82.699950  \n",
       "50%      16.380000    27.093000   -67.675000  \n",
       "75%      24.430000    34.458500   -63.961500  \n",
       "max      30.890000    79.690000   179.907000  "
      ]
     },
     "execution_count": 6,
     "metadata": {},
     "output_type": "execute_result"
    }
   ],
   "source": [
    "dfOreilly.describe()"
   ]
  },
  {
   "cell_type": "markdown",
   "metadata": {},
   "source": [
    "Getting rid of spurious values rrs values, including negative values and  1.000 values"
   ]
  },
  {
   "cell_type": "code",
   "execution_count": 18,
   "metadata": {
    "collapsed": true
   },
   "outputs": [],
   "source": [
    "rrsCols = [col for col in colIwant if 'rrs' in col] \n",
    "dfOreillyClean = dfOreilly.loc[((dfOreilly.rrs411>0) & (dfOreilly.rrs411<1.0)\\\n",
    "                                &(dfOreilly.rrs443>0)&(dfOreilly.rrs489>0)&\\\n",
    "                               (dfOreilly.rrs510>0)&(dfOreilly.rrs510<1.0)&\\\n",
    "                               (dfOreilly.rrs555>0)&(dfOreilly.rrs555<1.0)&\\\n",
    "                               (dfOreilly.rrs670<1.0)&(dfOreilly.rrs670>0)),:]"
   ]
  },
  {
   "cell_type": "code",
   "execution_count": 16,
   "metadata": {},
   "outputs": [
    {
     "name": "stdout",
     "output_type": "stream",
     "text": [
      "<class 'pandas.core.frame.DataFrame'>\n",
      "Int64Index: 1101 entries, 0 to 4458\n",
      "Data columns (total 14 columns):\n",
      "id          1101 non-null int32\n",
      "depth       1101 non-null float64\n",
      "rrs411      1101 non-null float64\n",
      "rrs443      1101 non-null float64\n",
      "rrs489      1101 non-null float64\n",
      "rrs510      1101 non-null float64\n",
      "rrs555      1101 non-null float64\n",
      "rrs670      1101 non-null float64\n",
      "hplc_chl    417 non-null float64\n",
      "fluo_chl    794 non-null float64\n",
      "sst         1101 non-null float64\n",
      "lat         1101 non-null float64\n",
      "lon         1101 non-null float64\n",
      "datetime    1101 non-null datetime64[ns]\n",
      "dtypes: datetime64[ns](1), float64(12), int32(1)\n",
      "memory usage: 124.7 KB\n"
     ]
    }
   ],
   "source": [
    "dfOreillyClean.info()"
   ]
  },
  {
   "cell_type": "markdown",
   "metadata": {},
   "source": [
    "The next step is to create a single chlorophyll *a* column from the fluorometric and hplc data. Where possible, the hplc value will be used as fluorometric data, which tend to be plagued by contamination from other pigments. When not hplc data is not available, I will use entries from the fluo_chl column."
   ]
  },
  {
   "cell_type": "code",
   "execution_count": 19,
   "metadata": {},
   "outputs": [
    {
     "name": "stderr",
     "output_type": "stream",
     "text": [
      "/accounts/ekarakoy/anaconda3/lib/python3.6/site-packages/ipykernel_launcher.py:3: SettingWithCopyWarning: \n",
      "A value is trying to be set on a copy of a slice from a DataFrame.\n",
      "Try using .loc[row_indexer,col_indexer] = value instead\n",
      "\n",
      "See the caveats in the documentation: http://pandas.pydata.org/pandas-docs/stable/indexing.html#indexing-view-versus-copy\n",
      "  This is separate from the ipykernel package so we can avoid doing imports until\n"
     ]
    }
   ],
   "source": [
    "\n",
    "dfOreillyClean['chl_all'] = dfOreillyClean.loc[:, 'hplc_chl'].where(dfOreillyClean.hplc_chl.notnull(),\n",
    "                                                      dfOreillyClean.fluo_chl)"
   ]
  },
  {
   "cell_type": "code",
   "execution_count": 20,
   "metadata": {},
   "outputs": [
    {
     "name": "stdout",
     "output_type": "stream",
     "text": [
      "<class 'pandas.core.frame.DataFrame'>\n",
      "Int64Index: 1101 entries, 0 to 4458\n",
      "Data columns (total 15 columns):\n",
      "id          1101 non-null int32\n",
      "depth       1101 non-null float64\n",
      "rrs411      1101 non-null float64\n",
      "rrs443      1101 non-null float64\n",
      "rrs489      1101 non-null float64\n",
      "rrs510      1101 non-null float64\n",
      "rrs555      1101 non-null float64\n",
      "rrs670      1101 non-null float64\n",
      "hplc_chl    417 non-null float64\n",
      "fluo_chl    794 non-null float64\n",
      "sst         1101 non-null float64\n",
      "lat         1101 non-null float64\n",
      "lon         1101 non-null float64\n",
      "datetime    1101 non-null datetime64[ns]\n",
      "chl_all     1016 non-null float64\n",
      "dtypes: datetime64[ns](1), float64(13), int32(1)\n",
      "memory usage: 133.3 KB\n"
     ]
    }
   ],
   "source": [
    "dfOreillyClean.info()"
   ]
  },
  {
   "cell_type": "code",
   "execution_count": 21,
   "metadata": {},
   "outputs": [
    {
     "data": {
      "text/plain": [
       "(0.017000000000000001, 77.864800000000002)"
      ]
     },
     "execution_count": 21,
     "metadata": {},
     "output_type": "execute_result"
    }
   ],
   "source": [
    "dfOreillyClean.chl_all.min(), dfOreillyClean.chl_all.max()"
   ]
  },
  {
   "cell_type": "code",
   "execution_count": 22,
   "metadata": {},
   "outputs": [
    {
     "name": "stdout",
     "output_type": "stream",
     "text": [
      "<class 'pandas.core.frame.DataFrame'>\n",
      "Int64Index: 1101 entries, 0 to 4458\n",
      "Data columns (total 15 columns):\n",
      "id          1101 non-null int32\n",
      "depth       1101 non-null float64\n",
      "rrs411      1101 non-null float64\n",
      "rrs443      1101 non-null float64\n",
      "rrs489      1101 non-null float64\n",
      "rrs510      1101 non-null float64\n",
      "rrs555      1101 non-null float64\n",
      "rrs670      1101 non-null float64\n",
      "hplc_chl    417 non-null float64\n",
      "fluo_chl    794 non-null float64\n",
      "sst         1101 non-null float64\n",
      "lat         1101 non-null float64\n",
      "lon         1101 non-null float64\n",
      "datetime    1101 non-null datetime64[ns]\n",
      "chl_all     1016 non-null float64\n",
      "dtypes: datetime64[ns](1), float64(13), int32(1)\n",
      "memory usage: 133.3 KB\n"
     ]
    }
   ],
   "source": [
    "dfOreillyClean.info()"
   ]
  },
  {
   "cell_type": "code",
   "execution_count": 24,
   "metadata": {},
   "outputs": [
    {
     "name": "stderr",
     "output_type": "stream",
     "text": [
      "/accounts/ekarakoy/anaconda3/lib/python3.6/site-packages/ipykernel_launcher.py:1: SettingWithCopyWarning: \n",
      "A value is trying to be set on a copy of a slice from a DataFrame\n",
      "\n",
      "See the caveats in the documentation: http://pandas.pydata.org/pandas-docs/stable/indexing.html#indexing-view-versus-copy\n",
      "  \"\"\"Entry point for launching an IPython kernel.\n"
     ]
    }
   ],
   "source": [
    "dfOreillyClean.dropna(axis=0, subset=['chl_all'], inplace=True)"
   ]
  },
  {
   "cell_type": "code",
   "execution_count": 25,
   "metadata": {},
   "outputs": [
    {
     "name": "stdout",
     "output_type": "stream",
     "text": [
      "<class 'pandas.core.frame.DataFrame'>\n",
      "Int64Index: 1016 entries, 0 to 4458\n",
      "Data columns (total 15 columns):\n",
      "id          1016 non-null int32\n",
      "depth       1016 non-null float64\n",
      "rrs411      1016 non-null float64\n",
      "rrs443      1016 non-null float64\n",
      "rrs489      1016 non-null float64\n",
      "rrs510      1016 non-null float64\n",
      "rrs555      1016 non-null float64\n",
      "rrs670      1016 non-null float64\n",
      "hplc_chl    417 non-null float64\n",
      "fluo_chl    794 non-null float64\n",
      "sst         1016 non-null float64\n",
      "lat         1016 non-null float64\n",
      "lon         1016 non-null float64\n",
      "datetime    1016 non-null datetime64[ns]\n",
      "chl_all     1016 non-null float64\n",
      "dtypes: datetime64[ns](1), float64(13), int32(1)\n",
      "memory usage: 123.0 KB\n"
     ]
    }
   ],
   "source": [
    "dfOreillyClean.info()"
   ]
  },
  {
   "cell_type": "code",
   "execution_count": 27,
   "metadata": {},
   "outputs": [],
   "source": [
    "dfOreillyClean.to_pickle(home / 'DATA/NOMAD/Oreilly2000Clean.pkl')"
   ]
  },
  {
   "cell_type": "code",
   "execution_count": 28,
   "metadata": {
    "collapsed": true
   },
   "outputs": [],
   "source": [
    "dfOreillyClean.to_pickle(home / 'DEV-ALL/Bayesian_Chl_Algorithms/pickleJar/dfNOMADV2.pkl')"
   ]
  },
  {
   "cell_type": "code",
   "execution_count": null,
   "metadata": {
    "collapsed": true
   },
   "outputs": [],
   "source": []
  }
 ],
 "metadata": {
  "kernelspec": {
   "display_name": "Python 3",
   "language": "python",
   "name": "python3"
  },
  "language_info": {
   "codemirror_mode": {
    "name": "ipython",
    "version": 3
   },
   "file_extension": ".py",
   "mimetype": "text/x-python",
   "name": "python",
   "nbconvert_exporter": "python",
   "pygments_lexer": "ipython3",
   "version": "3.6.3"
  }
 },
 "nbformat": 4,
 "nbformat_minor": 2
}
