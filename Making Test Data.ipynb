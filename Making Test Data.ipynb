{
 "cells": [
  {
   "cell_type": "code",
   "execution_count": 2,
   "metadata": {
    "collapsed": true
   },
   "outputs": [],
   "source": [
    "import pandas as pd\n",
    "import numpy as np\n",
    "import matplotlib.pyplot as pl\n",
    "from matplotlib import rcParams\n",
    "from IPython.core.display import HTML, display\n"
   ]
  },
  {
   "cell_type": "code",
   "execution_count": 3,
   "metadata": {
    "collapsed": true
   },
   "outputs": [],
   "source": [
    "csv_path = './data/swf__mups_chlor_a_2008_2010.csv'"
   ]
  },
  {
   "cell_type": "code",
   "execution_count": 12,
   "metadata": {
    "collapsed": true
   },
   "outputs": [],
   "source": [
    "pat1 = 'fields='\n",
    "pat2 = 'end_header'\n",
    "with open(csv_path) as f:\n",
    "    for i, line in enumerate(f.readlines()):\n",
    "        if pat1 in line:\n",
    "            column_line = line.split(pat1)[-1].strip()\n",
    "            columns = column_line.split(',')\n",
    "        if pat2 in line:\n",
    "            line_cnt = i+1\n",
    "            break"
   ]
  },
  {
   "cell_type": "code",
   "execution_count": 13,
   "metadata": {},
   "outputs": [
    {
     "data": {
      "text/plain": [
       "['id',\n",
       " 'latitude',\n",
       " 'longitude',\n",
       " 'date_time',\n",
       " 'cruise',\n",
       " 'seawifs_filename',\n",
       " 'seawifs_es_error',\n",
       " 'seawifs_pixel_total',\n",
       " 'seawifs_tdiff',\n",
       " 'seawifs_solz',\n",
       " 'seawifs_senz',\n",
       " 'seawifs_cv',\n",
       " 'seawifs_windspeed',\n",
       " 'seawifs_chlor_a',\n",
       " 'insitu_chlor_a',\n",
       " 'seawifs_rrs412',\n",
       " 'seawifs_rrs443',\n",
       " 'seawifs_rrs490',\n",
       " 'seawifs_rrs510',\n",
       " 'seawifs_rrs555',\n",
       " 'seawifs_rrs670']"
      ]
     },
     "execution_count": 13,
     "metadata": {},
     "output_type": "execute_result"
    }
   ],
   "source": [
    "columns"
   ]
  },
  {
   "cell_type": "code",
   "execution_count": 16,
   "metadata": {},
   "outputs": [],
   "source": [
    "dftest = pd.read_csv(csv_path, skiprows=line_cnt, names=columns)"
   ]
  },
  {
   "cell_type": "code",
   "execution_count": 19,
   "metadata": {},
   "outputs": [
    {
     "data": {
      "text/html": [
       "<div>\n",
       "<style scoped>\n",
       "    .dataframe tbody tr th:only-of-type {\n",
       "        vertical-align: middle;\n",
       "    }\n",
       "\n",
       "    .dataframe tbody tr th {\n",
       "        vertical-align: top;\n",
       "    }\n",
       "\n",
       "    .dataframe thead th {\n",
       "        text-align: right;\n",
       "    }\n",
       "</style>\n",
       "<table border=\"1\" class=\"dataframe\">\n",
       "  <thead>\n",
       "    <tr style=\"text-align: right;\">\n",
       "      <th></th>\n",
       "      <th>0</th>\n",
       "      <th>1</th>\n",
       "    </tr>\n",
       "  </thead>\n",
       "  <tbody>\n",
       "    <tr>\n",
       "      <th>id</th>\n",
       "      <td>280136</td>\n",
       "      <td>279946</td>\n",
       "    </tr>\n",
       "    <tr>\n",
       "      <th>latitude</th>\n",
       "      <td>29.0527</td>\n",
       "      <td>23.0139</td>\n",
       "    </tr>\n",
       "    <tr>\n",
       "      <th>longitude</th>\n",
       "      <td>-87.3232</td>\n",
       "      <td>59.9755</td>\n",
       "    </tr>\n",
       "    <tr>\n",
       "      <th>date_time</th>\n",
       "      <td>2010-05-13 21:02:00</td>\n",
       "      <td>2010-03-10 11:37:00</td>\n",
       "    </tr>\n",
       "    <tr>\n",
       "      <th>cruise</th>\n",
       "      <td>2010_05_wbii</td>\n",
       "      <td>abudhabi-masqat</td>\n",
       "    </tr>\n",
       "    <tr>\n",
       "      <th>seawifs_filename</th>\n",
       "      <td>S2010133195617.L2_MLAC.R0000020308_2010_05_wbi...</td>\n",
       "      <td>S2010069095904.L2_GAC.R0000020316_abudhabi-mas...</td>\n",
       "    </tr>\n",
       "    <tr>\n",
       "      <th>seawifs_es_error</th>\n",
       "      <td>0</td>\n",
       "      <td>0</td>\n",
       "    </tr>\n",
       "    <tr>\n",
       "      <th>seawifs_pixel_total</th>\n",
       "      <td>25</td>\n",
       "      <td>25</td>\n",
       "    </tr>\n",
       "    <tr>\n",
       "      <th>seawifs_tdiff</th>\n",
       "      <td>-2866</td>\n",
       "      <td>-5159</td>\n",
       "    </tr>\n",
       "    <tr>\n",
       "      <th>seawifs_solz</th>\n",
       "      <td>35.43</td>\n",
       "      <td>40.02</td>\n",
       "    </tr>\n",
       "    <tr>\n",
       "      <th>seawifs_senz</th>\n",
       "      <td>29.85</td>\n",
       "      <td>34.64</td>\n",
       "    </tr>\n",
       "    <tr>\n",
       "      <th>seawifs_cv</th>\n",
       "      <td>0.113</td>\n",
       "      <td>0.097</td>\n",
       "    </tr>\n",
       "    <tr>\n",
       "      <th>seawifs_windspeed</th>\n",
       "      <td>6.367</td>\n",
       "      <td>2.418</td>\n",
       "    </tr>\n",
       "    <tr>\n",
       "      <th>seawifs_chlor_a</th>\n",
       "      <td>0.199851</td>\n",
       "      <td>2.62575</td>\n",
       "    </tr>\n",
       "    <tr>\n",
       "      <th>insitu_chlor_a</th>\n",
       "      <td>0.17375</td>\n",
       "      <td>1.342</td>\n",
       "    </tr>\n",
       "    <tr>\n",
       "      <th>seawifs_rrs412</th>\n",
       "      <td>0.004372</td>\n",
       "      <td>-0.001591</td>\n",
       "    </tr>\n",
       "    <tr>\n",
       "      <th>seawifs_rrs443</th>\n",
       "      <td>0.004484</td>\n",
       "      <td>0.000155</td>\n",
       "    </tr>\n",
       "    <tr>\n",
       "      <th>seawifs_rrs490</th>\n",
       "      <td>0.003964</td>\n",
       "      <td>0.001437</td>\n",
       "    </tr>\n",
       "    <tr>\n",
       "      <th>seawifs_rrs510</th>\n",
       "      <td>0.00283</td>\n",
       "      <td>0.001844</td>\n",
       "    </tr>\n",
       "    <tr>\n",
       "      <th>seawifs_rrs555</th>\n",
       "      <td>0.001421</td>\n",
       "      <td>0.001949</td>\n",
       "    </tr>\n",
       "    <tr>\n",
       "      <th>seawifs_rrs670</th>\n",
       "      <td>-1.7e-05</td>\n",
       "      <td>0.000624</td>\n",
       "    </tr>\n",
       "  </tbody>\n",
       "</table>\n",
       "</div>"
      ],
      "text/plain": [
       "                                                                     0  \\\n",
       "id                                                              280136   \n",
       "latitude                                                       29.0527   \n",
       "longitude                                                     -87.3232   \n",
       "date_time                                          2010-05-13 21:02:00   \n",
       "cruise                                                    2010_05_wbii   \n",
       "seawifs_filename     S2010133195617.L2_MLAC.R0000020308_2010_05_wbi...   \n",
       "seawifs_es_error                                                     0   \n",
       "seawifs_pixel_total                                                 25   \n",
       "seawifs_tdiff                                                    -2866   \n",
       "seawifs_solz                                                     35.43   \n",
       "seawifs_senz                                                     29.85   \n",
       "seawifs_cv                                                       0.113   \n",
       "seawifs_windspeed                                                6.367   \n",
       "seawifs_chlor_a                                               0.199851   \n",
       "insitu_chlor_a                                                 0.17375   \n",
       "seawifs_rrs412                                                0.004372   \n",
       "seawifs_rrs443                                                0.004484   \n",
       "seawifs_rrs490                                                0.003964   \n",
       "seawifs_rrs510                                                 0.00283   \n",
       "seawifs_rrs555                                                0.001421   \n",
       "seawifs_rrs670                                                -1.7e-05   \n",
       "\n",
       "                                                                     1  \n",
       "id                                                              279946  \n",
       "latitude                                                       23.0139  \n",
       "longitude                                                      59.9755  \n",
       "date_time                                          2010-03-10 11:37:00  \n",
       "cruise                                                 abudhabi-masqat  \n",
       "seawifs_filename     S2010069095904.L2_GAC.R0000020316_abudhabi-mas...  \n",
       "seawifs_es_error                                                     0  \n",
       "seawifs_pixel_total                                                 25  \n",
       "seawifs_tdiff                                                    -5159  \n",
       "seawifs_solz                                                     40.02  \n",
       "seawifs_senz                                                     34.64  \n",
       "seawifs_cv                                                       0.097  \n",
       "seawifs_windspeed                                                2.418  \n",
       "seawifs_chlor_a                                                2.62575  \n",
       "insitu_chlor_a                                                   1.342  \n",
       "seawifs_rrs412                                               -0.001591  \n",
       "seawifs_rrs443                                                0.000155  \n",
       "seawifs_rrs490                                                0.001437  \n",
       "seawifs_rrs510                                                0.001844  \n",
       "seawifs_rrs555                                                0.001949  \n",
       "seawifs_rrs670                                                0.000624  "
      ]
     },
     "execution_count": 19,
     "metadata": {},
     "output_type": "execute_result"
    }
   ],
   "source": [
    "dftest.head(2).T"
   ]
  },
  {
   "cell_type": "code",
   "execution_count": 20,
   "metadata": {},
   "outputs": [
    {
     "name": "stdout",
     "output_type": "stream",
     "text": [
      "<class 'pandas.core.frame.DataFrame'>\n",
      "RangeIndex: 117 entries, 0 to 116\n",
      "Data columns (total 21 columns):\n",
      "id                     117 non-null int64\n",
      "latitude               117 non-null float64\n",
      "longitude              117 non-null float64\n",
      "date_time              117 non-null object\n",
      "cruise                 117 non-null object\n",
      "seawifs_filename       117 non-null object\n",
      "seawifs_es_error       117 non-null float64\n",
      "seawifs_pixel_total    117 non-null int64\n",
      "seawifs_tdiff          117 non-null int64\n",
      "seawifs_solz           117 non-null float64\n",
      "seawifs_senz           117 non-null float64\n",
      "seawifs_cv             117 non-null float64\n",
      "seawifs_windspeed      117 non-null float64\n",
      "seawifs_chlor_a        117 non-null float64\n",
      "insitu_chlor_a         117 non-null float64\n",
      "seawifs_rrs412         117 non-null float64\n",
      "seawifs_rrs443         117 non-null float64\n",
      "seawifs_rrs490         117 non-null float64\n",
      "seawifs_rrs510         117 non-null float64\n",
      "seawifs_rrs555         117 non-null float64\n",
      "seawifs_rrs670         117 non-null float64\n",
      "dtypes: float64(15), int64(3), object(3)\n",
      "memory usage: 19.3+ KB\n"
     ]
    }
   ],
   "source": [
    "dftest.info()"
   ]
  },
  {
   "cell_type": "code",
   "execution_count": 29,
   "metadata": {},
   "outputs": [],
   "source": [
    "dftest.replace(-999, value=np.NaN, inplace=True)"
   ]
  },
  {
   "cell_type": "code",
   "execution_count": 30,
   "metadata": {
    "collapsed": true
   },
   "outputs": [],
   "source": [
    "dftest.dropna(inplace=True)"
   ]
  },
  {
   "cell_type": "code",
   "execution_count": 32,
   "metadata": {},
   "outputs": [],
   "source": [
    "dftest.to_pickle('./pickleJar/SwfTestCl.pkl')"
   ]
  },
  {
   "cell_type": "code",
   "execution_count": null,
   "metadata": {
    "collapsed": true
   },
   "outputs": [],
   "source": []
  }
 ],
 "metadata": {
  "kernelspec": {
   "display_name": "Python 3",
   "language": "python",
   "name": "python3"
  },
  "language_info": {
   "codemirror_mode": {
    "name": "ipython",
    "version": 3
   },
   "file_extension": ".py",
   "mimetype": "text/x-python",
   "name": "python",
   "nbconvert_exporter": "python",
   "pygments_lexer": "ipython3",
   "version": "3.6.3"
  }
 },
 "nbformat": 4,
 "nbformat_minor": 2
}
